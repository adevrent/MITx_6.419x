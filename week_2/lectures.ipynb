{
 "cells": [
  {
   "cell_type": "code",
   "execution_count": 2,
   "metadata": {},
   "outputs": [],
   "source": [
    "import numpy as np"
   ]
  },
  {
   "cell_type": "code",
   "execution_count": 3,
   "metadata": {},
   "outputs": [
    {
     "name": "stdout",
     "output_type": "stream",
     "text": [
      "n = 4\n",
      "X_bar = [5.5  5.   3.25]\n"
     ]
    },
    {
     "data": {
      "text/plain": [
       "array([[ 2.88888889, -4.88888889,  1.11111111,  0.44444444],\n",
       "       [-4.88888889,  9.55555556, -1.11111111,  1.55555556],\n",
       "       [ 1.11111111, -1.11111111,  0.88888889,  1.55555556],\n",
       "       [ 0.44444444,  1.55555556,  1.55555556,  4.22222222]])"
      ]
     },
     "execution_count": 3,
     "metadata": {},
     "output_type": "execute_result"
    }
   ],
   "source": [
    "X = np.array([\n",
    "    [8, 4, 7],\n",
    "    [2, 8, 1],\n",
    "    [3, 1, 1],\n",
    "    [9, 7, 4]\n",
    "])\n",
    "\n",
    "n = X.shape[0]\n",
    "print(\"n =\", n)\n",
    "\n",
    "X_bar = X.T @ np.ones(n) / n\n",
    "print(\"X_bar =\", X_bar)\n",
    "\n",
    "# S = (1/n * X.T @ X) - np.outer(X_bar, X_bar)\n",
    "# S\n",
    "\n",
    "S = np.cov(X, bias=True)\n",
    "S"
   ]
  },
  {
   "cell_type": "code",
   "execution_count": 4,
   "metadata": {},
   "outputs": [
    {
     "data": {
      "text/plain": [
       "array([[9.25  , 1.    , 6.375 ],\n",
       "       [1.    , 7.5   , 0.    ],\n",
       "       [6.375 , 0.    , 6.1875]])"
      ]
     },
     "execution_count": 4,
     "metadata": {},
     "output_type": "execute_result"
    }
   ],
   "source": [
    "x1 = np.array([8, 4, 7])\n",
    "x2 = np.array([2, 8, 1])\n",
    "x3 = np.array([3, 1, 1])\n",
    "x4 = np.array([9, 7, 4])\n",
    "\n",
    "arrays = [x1, x2, x3, x4]\n",
    "\n",
    "sum = 0\n",
    "for array in arrays:\n",
    "    sum += np.outer(array, array)\n",
    "sum = sum / 4\n",
    "    \n",
    "S = sum - np.outer(X_bar, X_bar)\n",
    "S"
   ]
  },
  {
   "cell_type": "code",
   "execution_count": 5,
   "metadata": {},
   "outputs": [
    {
     "data": {
      "text/plain": [
       "array([[9.25  , 1.    , 6.375 ],\n",
       "       [1.    , 7.5   , 0.    ],\n",
       "       [6.375 , 0.    , 6.1875]])"
      ]
     },
     "execution_count": 5,
     "metadata": {},
     "output_type": "execute_result"
    }
   ],
   "source": [
    "x1_sum = np.outer(x1, x1)\n",
    "x2_sum = np.outer(x2, x2)\n",
    "x3_sum = np.outer(x3, x3)\n",
    "x4_sum = np.outer(x4, x4)\n",
    "\n",
    "(x1_sum + x2_sum + x3_sum + x4_sum) / 4 - np.outer(X_bar, X_bar)"
   ]
  },
  {
   "cell_type": "code",
   "execution_count": 6,
   "metadata": {},
   "outputs": [],
   "source": [
    "def H(x):\n",
    "    p = len(x)\n",
    "    H = np.eye(p) - 1/p * np.outer(np.ones(p), np.ones(p))\n",
    "    return H @ x\n",
    "\n",
    "def H2(x):\n",
    "    p = len(x)\n",
    "    H = np.eye(p) - 1/p * np.outer(np.ones(p), np.ones(p))\n",
    "    H2 = H @ H\n",
    "    return H2 @ x"
   ]
  },
  {
   "cell_type": "code",
   "execution_count": 7,
   "metadata": {},
   "outputs": [
    {
     "data": {
      "text/plain": [
       "array([ 2.33333333, -0.66666667, -1.66666667])"
      ]
     },
     "execution_count": 7,
     "metadata": {},
     "output_type": "execute_result"
    }
   ],
   "source": [
    "x = np.array([2, -1, -2])\n",
    "\n",
    "H(x)"
   ]
  },
  {
   "cell_type": "code",
   "execution_count": 8,
   "metadata": {},
   "outputs": [
    {
     "data": {
      "text/plain": [
       "array([ 2.33333333, -0.66666667, -1.66666667])"
      ]
     },
     "execution_count": 8,
     "metadata": {},
     "output_type": "execute_result"
    }
   ],
   "source": [
    "H2(x)"
   ]
  },
  {
   "cell_type": "code",
   "execution_count": 9,
   "metadata": {},
   "outputs": [
    {
     "data": {
      "text/plain": [
       "array([[ 1. ,  2. ],\n",
       "       [ 2.2,  4.4],\n",
       "       [-0.2, -0.4]])"
      ]
     },
     "execution_count": 9,
     "metadata": {},
     "output_type": "execute_result"
    }
   ],
   "source": [
    "u = 1/np.sqrt(5) * np.array([1, 2])\n",
    "\n",
    "X1 = np.array([1, 2])\n",
    "X2 = np.array([3, 4])\n",
    "X3 = np.array([-1, 0])\n",
    "\n",
    "def proj(X, u):\n",
    "    return np.dot(X, u) * u\n",
    "\n",
    "X = np.array([proj(vector, u) for vector in [X1, X2, X3]])\n",
    "X"
   ]
  },
  {
   "cell_type": "code",
   "execution_count": 10,
   "metadata": {},
   "outputs": [
    {
     "name": "stdout",
     "output_type": "stream",
     "text": [
      "n = 3\n"
     ]
    },
    {
     "data": {
      "text/plain": [
       "array([[0.96, 1.92],\n",
       "       [1.92, 3.84]])"
      ]
     },
     "execution_count": 10,
     "metadata": {},
     "output_type": "execute_result"
    }
   ],
   "source": [
    "n = X.shape[0]\n",
    "print(\"n =\", n)\n",
    "\n",
    "H = (np.eye(n) - 1/n * np.outer(np.ones(n), np.ones(n)))\n",
    "\n",
    "S = 1/n * X.T @ H @ X\n",
    "S"
   ]
  },
  {
   "cell_type": "code",
   "execution_count": 11,
   "metadata": {},
   "outputs": [
    {
     "data": {
      "text/plain": [
       "4.799999999999999"
      ]
     },
     "execution_count": 11,
     "metadata": {},
     "output_type": "execute_result"
    }
   ],
   "source": [
    "dot1 = np.dot(X1, u)\n",
    "dot2 = np.dot(X2, u)\n",
    "dot3 = np.dot(X3, u)\n",
    "\n",
    "dots = np.array([dot1, dot2, dot3])\n",
    "var = 1/3 * ((dot1 - dots.mean())**2 + (dot2 - dots.mean())**2 + (dot3 - dots.mean())**2)\n",
    "var"
   ]
  },
  {
   "cell_type": "code",
   "execution_count": 12,
   "metadata": {},
   "outputs": [
    {
     "data": {
      "text/plain": [
       "4.799999999999998"
      ]
     },
     "execution_count": 12,
     "metadata": {},
     "output_type": "execute_result"
    }
   ],
   "source": [
    "u.T @ S @ u"
   ]
  },
  {
   "cell_type": "code",
   "execution_count": 13,
   "metadata": {},
   "outputs": [
    {
     "data": {
      "text/plain": [
       "array([[2. , 1. ],\n",
       "       [1. , 0.5]])"
      ]
     },
     "execution_count": 13,
     "metadata": {},
     "output_type": "execute_result"
    }
   ],
   "source": [
    "X = np.array([\n",
    "    [1, 0.5],\n",
    "    [-1, -0.5]\n",
    "])\n",
    "\n",
    "X.T @ X"
   ]
  },
  {
   "cell_type": "code",
   "execution_count": 14,
   "metadata": {},
   "outputs": [
    {
     "data": {
      "text/plain": [
       "array([[1., 0.],\n",
       "       [0., 3.]])"
      ]
     },
     "execution_count": 14,
     "metadata": {},
     "output_type": "execute_result"
    }
   ],
   "source": [
    "X = np.array([\n",
    "    [0, 2],\n",
    "    [1, -1],\n",
    "    [-1, -1]\n",
    "])\n",
    "\n",
    "S = 1/2 * X.T @ X\n",
    "S"
   ]
  },
  {
   "cell_type": "code",
   "execution_count": 15,
   "metadata": {},
   "outputs": [
    {
     "data": {
      "text/plain": [
       "array([[0.66666667, 0.66666667],\n",
       "       [0.66666667, 3.33333333]])"
      ]
     },
     "execution_count": 15,
     "metadata": {},
     "output_type": "execute_result"
    }
   ],
   "source": [
    "X = np.array([\n",
    "    [0, 2],\n",
    "    [0, -2],\n",
    "    [1, 1],\n",
    "    [-1, -1]\n",
    "])\n",
    "\n",
    "n = X.shape[0]\n",
    "\n",
    "S = 1/(n-1) * X.T @ X\n",
    "S"
   ]
  },
  {
   "cell_type": "code",
   "execution_count": 16,
   "metadata": {},
   "outputs": [
    {
     "data": {
      "text/plain": [
       "array([[0.15737865, 0.66666667],\n",
       "       [0.66666667, 2.82404532]])"
      ]
     },
     "execution_count": 16,
     "metadata": {},
     "output_type": "execute_result"
    }
   ],
   "source": [
    "lambda2 = 0.5092880150001402\n",
    "lambda1 = 3.4907119849998596\n",
    "p = 2\n",
    "A = S - np.eye(p)*lambda1\n",
    "B = S - np.eye(p)*lambda2\n",
    "\n",
    "B"
   ]
  },
  {
   "cell_type": "code",
   "execution_count": 17,
   "metadata": {},
   "outputs": [
    {
     "data": {
      "text/plain": [
       "array([[0.22975292],\n",
       "       [0.97324899]])"
      ]
     },
     "execution_count": 17,
     "metadata": {},
     "output_type": "execute_result"
    }
   ],
   "source": [
    "import scipy as sp\n",
    "\n",
    "sp.linalg.null_space(A)"
   ]
  },
  {
   "cell_type": "code",
   "execution_count": 18,
   "metadata": {},
   "outputs": [
    {
     "data": {
      "text/plain": [
       "array([[-0.97324899],\n",
       "       [ 0.22975292]])"
      ]
     },
     "execution_count": 18,
     "metadata": {},
     "output_type": "execute_result"
    }
   ],
   "source": [
    "sp.linalg.null_space(B)"
   ]
  },
  {
   "cell_type": "code",
   "execution_count": 19,
   "metadata": {},
   "outputs": [
    {
     "data": {
      "text/plain": [
       "array([0.50928802, 3.49071198])"
      ]
     },
     "execution_count": 19,
     "metadata": {},
     "output_type": "execute_result"
    }
   ],
   "source": [
    "np.real(sp.linalg.eigvals(S))"
   ]
  },
  {
   "cell_type": "markdown",
   "metadata": {},
   "source": [
    "Multi-Dimensional Scaling (MDS)"
   ]
  },
  {
   "cell_type": "code",
   "execution_count": 20,
   "metadata": {},
   "outputs": [],
   "source": [
    "from numpy import linalg as lg"
   ]
  },
  {
   "cell_type": "code",
   "execution_count": 21,
   "metadata": {},
   "outputs": [
    {
     "data": {
      "text/plain": [
       "array([[ 2,  0,  0],\n",
       "       [ 0,  2, -2],\n",
       "       [ 0, -2,  2]])"
      ]
     },
     "execution_count": 21,
     "metadata": {},
     "output_type": "execute_result"
    }
   ],
   "source": [
    "X = np.array([\n",
    "    [1, 1],\n",
    "    [1, -1],\n",
    "    [-1, 1]\n",
    "])\n",
    "\n",
    "B = X @ X.T  # Gram matrix\n",
    "B"
   ]
  },
  {
   "cell_type": "code",
   "execution_count": 22,
   "metadata": {},
   "outputs": [
    {
     "data": {
      "text/plain": [
       "array([4.0000000e+00, 4.4408921e-16, 2.0000000e+00])"
      ]
     },
     "execution_count": 22,
     "metadata": {},
     "output_type": "execute_result"
    }
   ],
   "source": [
    "np.real(sp.linalg.eigvals(B))"
   ]
  },
  {
   "cell_type": "code",
   "execution_count": 23,
   "metadata": {},
   "outputs": [
    {
     "data": {
      "text/plain": [
       "array([4.0000000e+00, 4.4408921e-16, 2.0000000e+00])"
      ]
     },
     "execution_count": 23,
     "metadata": {},
     "output_type": "execute_result"
    }
   ],
   "source": [
    "lg.eig(B)[0]  # eigenvalues"
   ]
  },
  {
   "cell_type": "code",
   "execution_count": 24,
   "metadata": {},
   "outputs": [
    {
     "data": {
      "text/plain": [
       "array([[ 0.        ,  0.        ,  1.        ],\n",
       "       [-0.70710678,  0.70710678,  0.        ],\n",
       "       [ 0.70710678,  0.70710678,  0.        ]])"
      ]
     },
     "execution_count": 24,
     "metadata": {},
     "output_type": "execute_result"
    }
   ],
   "source": [
    "lg.eig(B)[1]  # eigenvectors"
   ]
  },
  {
   "cell_type": "code",
   "execution_count": 25,
   "metadata": {},
   "outputs": [
    {
     "data": {
      "text/plain": [
       "0.7071067811865475"
      ]
     },
     "execution_count": 25,
     "metadata": {},
     "output_type": "execute_result"
    }
   ],
   "source": [
    "1/np.sqrt(2)"
   ]
  },
  {
   "cell_type": "code",
   "execution_count": 29,
   "metadata": {},
   "outputs": [],
   "source": [
    "# import sympy as sy\n",
    "\n",
    "# # Define the variable\n",
    "# a = sy.symbols('a')\n",
    "# p12 = (np.e)**(-1) / (2*(np.e)**(-1) + (np.e)**(-2))\n",
    "# p13 = p12\n",
    "# p23 = (np.e)**(-2) / (2*(np.e)**(-1) + (np.e)**(-2))\n",
    "\n",
    "# q12 = (np.e)**(-a**2) / (2*(np.e)**(-a**2) + (np.e)**(-4*a**2))\n",
    "# q13 = q12\n",
    "# q23 = (np.e)**(-4*a**2) / (2*(np.e)**(-a**2) + (np.e)**(-4*a**2))\n",
    "\n",
    "# f = p12 * sy.log(p12 / q12) + p13 * sy.log(p13 / q13) + p23 * sy.log(p23 / q23)\n",
    "# f_simplified = sy.simplify(f)\n",
    "# f_simplified\n",
    "\n",
    "# # Solve the equation\n",
    "# solutions = sy.solve(f_simplified, a)\n",
    "# print(solutions)\n",
    "\n",
    "# Cannot find an analytical solution"
   ]
  },
  {
   "cell_type": "code",
   "execution_count": 2,
   "metadata": {},
   "outputs": [
    {
     "name": "stdout",
     "output_type": "stream",
     "text": [
      "[0.57735027]\n"
     ]
    }
   ],
   "source": [
    "from scipy.optimize import fsolve\n",
    "import numpy as np\n",
    "\n",
    "# Define the function\n",
    "def f(a):\n",
    "    p12 = np.exp(-1) / (2 * np.exp(-1) + np.exp(-2))\n",
    "    p13 = p12\n",
    "    p23 = np.exp(-2) / (2 * np.exp(-1) + np.exp(-2))\n",
    "    \n",
    "    q12 = np.exp(-a**2) / (2 * np.exp(-a**2) + np.exp(-4*a**2))\n",
    "    q13 = q12\n",
    "    q23 = np.exp(-4*a**2) / (2 * np.exp(-a**2) + np.exp(-4*a**2))\n",
    "    \n",
    "    return p12 * np.log(p12 / q12) + p13 * np.log(p13 / q13) + p23 * np.log(p23 / q23)\n",
    "\n",
    "# Initial guess for the root\n",
    "initial_guess = 0.1\n",
    "\n",
    "# Solve the equation numerically\n",
    "solution = fsolve(f, initial_guess)\n",
    "print(solution)"
   ]
  },
  {
   "attachments": {
    "image.png": {
     "image/png": "[encoded data removed]"
    }
   },
   "cell_type": "markdown",
   "metadata": {},
   "source": [
    "![image.png](attachment:image.png)"
   ]
  },
  {
   "cell_type": "code",
   "execution_count": 9,
   "metadata": {},
   "outputs": [
    {
     "data": {
      "text/plain": [
       "0.4223187982515182"
      ]
     },
     "execution_count": 9,
     "metadata": {},
     "output_type": "execute_result"
    }
   ],
   "source": [
    "p12 = np.exp(-1) / (2 * np.exp(-1) + np.exp(-2))\n",
    "p12"
   ]
  },
  {
   "cell_type": "code",
   "execution_count": 10,
   "metadata": {},
   "outputs": [
    {
     "data": {
      "text/plain": [
       "array([1.15784634])"
      ]
     },
     "execution_count": 10,
     "metadata": {},
     "output_type": "execute_result"
    }
   ],
   "source": [
    "def g(a):\n",
    "    num = 1/(1+a**2)\n",
    "    denom = 2*num + 1/(1+4*a**2)\n",
    "    return num/denom - p12\n",
    "\n",
    "fsolve(g, 1)"
   ]
  }
 ],
 "metadata": {
  "kernelspec": {
   "display_name": "base",
   "language": "python",
   "name": "python3"
  },
  "language_info": {
   "codemirror_mode": {
    "name": "ipython",
    "version": 3
   },
   "file_extension": ".py",
   "mimetype": "text/x-python",
   "name": "python",
   "nbconvert_exporter": "python",
   "pygments_lexer": "ipython3",
   "version": "3.11.5"
  }
 },
 "nbformat": 4,
 "nbformat_minor": 2
}
