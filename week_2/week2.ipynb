{
 "cells": [
  {
   "cell_type": "code",
   "execution_count": 96,
   "metadata": {},
   "outputs": [],
   "source": [
    "import numpy as np\n",
    "import sympy as sy"
   ]
  },
  {
   "cell_type": "code",
   "execution_count": 97,
   "metadata": {},
   "outputs": [
    {
     "data": {
      "text/latex": [
       "$\\displaystyle \\left[\\begin{matrix}0.707106781186547 & 0.707106781186547\\\\0.707106781186547 & -0.707106781186547\\end{matrix}\\right]$"
      ],
      "text/plain": [
       "Matrix([\n",
       "[0.707106781186547,  0.707106781186547],\n",
       "[0.707106781186547, -0.707106781186547]])"
      ]
     },
     "execution_count": 97,
     "metadata": {},
     "output_type": "execute_result"
    }
   ],
   "source": [
    "V = sy.Matrix([\n",
    "    [1, 1],\n",
    "    [1, -1]\n",
    "])\n",
    "\n",
    "V = V / np.sqrt(2)\n",
    "V"
   ]
  },
  {
   "cell_type": "code",
   "execution_count": 98,
   "metadata": {},
   "outputs": [
    {
     "data": {
      "text/latex": [
       "$\\displaystyle \\sigma^{2}$"
      ],
      "text/plain": [
       "sigma**2"
      ]
     },
     "execution_count": 98,
     "metadata": {},
     "output_type": "execute_result"
    }
   ],
   "source": [
    "sigma = sy.Symbol(\"sigma\")\n",
    "sigma**2"
   ]
  },
  {
   "cell_type": "code",
   "execution_count": 99,
   "metadata": {},
   "outputs": [
    {
     "data": {
      "text/latex": [
       "$\\displaystyle \\left[\\begin{matrix}\\sigma^{2} & 0\\\\0 & 1\\end{matrix}\\right]$"
      ],
      "text/plain": [
       "Matrix([\n",
       "[sigma**2, 0],\n",
       "[       0, 1]])"
      ]
     },
     "execution_count": 99,
     "metadata": {},
     "output_type": "execute_result"
    }
   ],
   "source": [
    "L = sy.Matrix([\n",
    "    [sigma**2, 0],\n",
    "    [0, 1]\n",
    "])\n",
    "L"
   ]
  },
  {
   "cell_type": "code",
   "execution_count": 100,
   "metadata": {},
   "outputs": [
    {
     "data": {
      "text/latex": [
       "$\\displaystyle \\left[\\begin{matrix}0.5 \\sigma^{2} + 0.5 & 0.5 \\sigma^{2} - 0.5\\\\0.5 \\sigma^{2} - 0.5 & 0.5 \\sigma^{2} + 0.5\\end{matrix}\\right]$"
      ],
      "text/plain": [
       "Matrix([\n",
       "[0.5*sigma**2 + 0.5, 0.5*sigma**2 - 0.5],\n",
       "[0.5*sigma**2 - 0.5, 0.5*sigma**2 + 0.5]])"
      ]
     },
     "execution_count": 100,
     "metadata": {},
     "output_type": "execute_result"
    }
   ],
   "source": [
    "S = V * L * V.T\n",
    "S"
   ]
  },
  {
   "cell_type": "code",
   "execution_count": 101,
   "metadata": {},
   "outputs": [
    {
     "data": {
      "text/latex": [
       "$\\displaystyle \\left[\\begin{matrix}0.5 + \\frac{0.5}{\\sigma^{2}} & -0.5 + \\frac{0.5}{\\sigma^{2}}\\\\-0.5 + \\frac{0.5}{\\sigma^{2}} & 0.5 + \\frac{0.5}{\\sigma^{2}}\\end{matrix}\\right]$"
      ],
      "text/plain": [
       "Matrix([\n",
       "[ 0.5 + 0.5/sigma**2, -0.5 + 0.5/sigma**2],\n",
       "[-0.5 + 0.5/sigma**2,  0.5 + 0.5/sigma**2]])"
      ]
     },
     "execution_count": 101,
     "metadata": {},
     "output_type": "execute_result"
    }
   ],
   "source": [
    "S_inv = sy.simplify(S.inv())\n",
    "S_inv"
   ]
  },
  {
   "cell_type": "code",
   "execution_count": 102,
   "metadata": {},
   "outputs": [
    {
     "data": {
      "text/latex": [
       "$\\displaystyle \\left[\\begin{matrix}-0.5 - \\frac{0.5}{\\sigma^{2}}\\\\0.5 - \\frac{0.5}{\\sigma^{2}}\\end{matrix}\\right]$"
      ],
      "text/plain": [
       "Matrix([\n",
       "[-0.5 - 0.5/sigma**2],\n",
       "[ 0.5 - 0.5/sigma**2]])"
      ]
     },
     "execution_count": 102,
     "metadata": {},
     "output_type": "execute_result"
    }
   ],
   "source": [
    "mu_0 = sy.Matrix([0, 0])\n",
    "mu_1 = sy.Matrix([1, 0])\n",
    "\n",
    "normal_vector = ((mu_0 - mu_1).T * S_inv).T\n",
    "normal_vector"
   ]
  },
  {
   "cell_type": "code",
   "execution_count": 103,
   "metadata": {},
   "outputs": [
    {
     "data": {
      "text/latex": [
       "$\\displaystyle \\left[\\begin{matrix}a\\\\b\\end{matrix}\\right]$"
      ],
      "text/plain": [
       "Matrix([\n",
       "[a],\n",
       "[b]])"
      ]
     },
     "execution_count": 103,
     "metadata": {},
     "output_type": "execute_result"
    }
   ],
   "source": [
    "a = sy.Symbol(\"a\")\n",
    "b = sy.Symbol(\"b\")\n",
    "c = sy.Symbol(\"c\")\n",
    "\n",
    "theta = sy.Matrix([a, b])\n",
    "theta"
   ]
  },
  {
   "cell_type": "code",
   "execution_count": 104,
   "metadata": {},
   "outputs": [
    {
     "data": {
      "text/latex": [
       "$\\displaystyle \\left[\\begin{matrix}x_{0}\\\\y_{0}\\end{matrix}\\right]$"
      ],
      "text/plain": [
       "Matrix([\n",
       "[x_0],\n",
       "[y_0]])"
      ]
     },
     "execution_count": 104,
     "metadata": {},
     "output_type": "execute_result"
    }
   ],
   "source": [
    "x0 = sy.Symbol(\"x_0\")\n",
    "y0 = sy.Symbol(\"y_0\")\n",
    "\n",
    "P = sy.Matrix([x0, y0])\n",
    "P"
   ]
  },
  {
   "cell_type": "code",
   "execution_count": 105,
   "metadata": {},
   "outputs": [
    {
     "data": {
      "text/latex": [
       "$\\displaystyle \\frac{a x_{0} + b y_{0} - c}{\\sqrt{\\left|{a}\\right|^{2} + \\left|{b}\\right|^{2}}}$"
      ],
      "text/plain": [
       "(a*x_0 + b*y_0 - c)/sqrt(Abs(a)**2 + Abs(b)**2)"
      ]
     },
     "execution_count": 105,
     "metadata": {},
     "output_type": "execute_result"
    }
   ],
   "source": [
    "(P.dot(theta.normalized()) - c/theta.norm()).simplify()"
   ]
  },
  {
   "cell_type": "markdown",
   "metadata": {},
   "source": [
    "Perceptron"
   ]
  },
  {
   "cell_type": "code",
   "execution_count": 142,
   "metadata": {},
   "outputs": [],
   "source": [
    "import numpy as np\n",
    "\n",
    "d = 2\n",
    "def generate_x_arr(d):\n",
    "    x_array = []\n",
    "    for i in range(1, d+1):\n",
    "        x = [np.cos(np.pi*t) if t==i else 0 for t in range(1, d+1)]\n",
    "        x_array.append(x)\n",
    "    return np.array(x_array)\n",
    "    \n",
    "generate_x_arr(3)\n",
    "\n",
    "def generate_random_y_arr(d):\n",
    "    y_array = []\n",
    "    for i in range(d):\n",
    "        y = (1 if np.random.random() > 0.5 else -1)\n",
    "        y_array.append(y)\n",
    "    return np.array(y_array)\n",
    "\n",
    "T = 10\n",
    "\n",
    "def perceptron(T, d):\n",
    "    x_arr = generate_x_arr(d)\n",
    "    # np.random.shuffle(x_arr)\n",
    "    y_arr = generate_random_y_arr(d)\n",
    "    theta = np.zeros(d)\n",
    "    updates = 0\n",
    "    for k in range(T):\n",
    "        for i in range(d):\n",
    "            if y_arr[i] * np.dot(theta, x_arr[i, :]) <= 0:\n",
    "                theta += y_arr[i]*x_arr[i, :]\n",
    "                updates += 1\n",
    "    print(\"num of updates =\", updates)\n",
    "    return theta"
   ]
  },
  {
   "cell_type": "code",
   "execution_count": 148,
   "metadata": {},
   "outputs": [
    {
     "name": "stdout",
     "output_type": "stream",
     "text": [
      "num of updates = 9\n"
     ]
    },
    {
     "data": {
      "text/plain": [
       "array([ 1.,  1., -1., -1.,  1.,  1., -1.,  1.,  1.])"
      ]
     },
     "execution_count": 148,
     "metadata": {},
     "output_type": "execute_result"
    }
   ],
   "source": [
    "perceptron(10, 9)"
   ]
  }
 ],
 "metadata": {
  "kernelspec": {
   "display_name": "base",
   "language": "python",
   "name": "python3"
  },
  "language_info": {
   "codemirror_mode": {
    "name": "ipython",
    "version": 3
   },
   "file_extension": ".py",
   "mimetype": "text/x-python",
   "name": "python",
   "nbconvert_exporter": "python",
   "pygments_lexer": "ipython3",
   "version": "3.11.5"
  }
 },
 "nbformat": 4,
 "nbformat_minor": 2
}
