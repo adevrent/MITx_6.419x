{
 "cells": [
  {
   "cell_type": "code",
   "execution_count": 80,
   "metadata": {},
   "outputs": [],
   "source": [
    "import torch\n",
    "import numpy as np\n",
    "np.set_printoptions(precision=3)\n",
    "import matplotlib.pyplot as plt"
   ]
  },
  {
   "cell_type": "code",
   "execution_count": 81,
   "metadata": {},
   "outputs": [
    {
     "name": "stdout",
     "output_type": "stream",
     "text": [
      "tensor([1, 2, 3])\n",
      "tensor([4, 5, 6], dtype=torch.int32)\n"
     ]
    }
   ],
   "source": [
    "a = [1, 2, 3]\n",
    "b = np.array([4, 5, 6], dtype=np.int32)\n",
    "\n",
    "t_a = torch.tensor(a)\n",
    "t_b = torch.from_numpy(b)\n",
    "\n",
    "print(t_a)\n",
    "print(t_b)"
   ]
  },
  {
   "cell_type": "code",
   "execution_count": 82,
   "metadata": {},
   "outputs": [
    {
     "name": "stdout",
     "output_type": "stream",
     "text": [
      "tensor([[1., 1., 1.],\n",
      "        [1., 1., 1.]])\n"
     ]
    },
    {
     "data": {
      "text/plain": [
       "torch.Size([2, 3])"
      ]
     },
     "execution_count": 82,
     "metadata": {},
     "output_type": "execute_result"
    }
   ],
   "source": [
    "t_ones = torch.ones((2, 3))\n",
    "print(t_ones)\n",
    "t_ones.shape"
   ]
  },
  {
   "cell_type": "code",
   "execution_count": 83,
   "metadata": {},
   "outputs": [
    {
     "data": {
      "text/plain": [
       "tensor([[3.],\n",
       "        [3.]])"
      ]
     },
     "execution_count": 83,
     "metadata": {},
     "output_type": "execute_result"
    }
   ],
   "source": [
    "t_ones.sum(dim=1, keepdim=True)"
   ]
  },
  {
   "cell_type": "code",
   "execution_count": 84,
   "metadata": {},
   "outputs": [
    {
     "data": {
      "text/plain": [
       "tensor([[0.8696, 0.1392, 0.3146],\n",
       "        [0.9409, 0.1192, 0.9536]])"
      ]
     },
     "execution_count": 84,
     "metadata": {},
     "output_type": "execute_result"
    }
   ],
   "source": [
    "rand_tensor = torch.rand(2, 3)\n",
    "rand_tensor"
   ]
  },
  {
   "cell_type": "code",
   "execution_count": 85,
   "metadata": {},
   "outputs": [
    {
     "data": {
      "text/plain": [
       "torch.int64"
      ]
     },
     "execution_count": 85,
     "metadata": {},
     "output_type": "execute_result"
    }
   ],
   "source": [
    "t_a_new = t_a.to(torch.int64)\n",
    "t_a_new.dtype"
   ]
  },
  {
   "cell_type": "code",
   "execution_count": 86,
   "metadata": {},
   "outputs": [
    {
     "data": {
      "text/plain": [
       "tensor([[0.1068, 0.1478, 0.7444, 0.1408, 0.3854],\n",
       "        [0.8637, 0.8960, 0.9729, 0.3985, 0.1114],\n",
       "        [0.9923, 0.3935, 0.2943, 0.6219, 0.1503]])"
      ]
     },
     "execution_count": 86,
     "metadata": {},
     "output_type": "execute_result"
    }
   ],
   "source": [
    "t = torch.rand((3, 5))\n",
    "t"
   ]
  },
  {
   "cell_type": "code",
   "execution_count": 87,
   "metadata": {},
   "outputs": [
    {
     "data": {
      "text/plain": [
       "tensor([[0.1068, 0.8637, 0.9923],\n",
       "        [0.1478, 0.8960, 0.3935],\n",
       "        [0.7444, 0.9729, 0.2943],\n",
       "        [0.1408, 0.3985, 0.6219],\n",
       "        [0.3854, 0.1114, 0.1503]])"
      ]
     },
     "execution_count": 87,
     "metadata": {},
     "output_type": "execute_result"
    }
   ],
   "source": [
    "t_tr = torch.transpose(t, 0, 1)\n",
    "t_tr"
   ]
  },
  {
   "cell_type": "code",
   "execution_count": 88,
   "metadata": {},
   "outputs": [
    {
     "data": {
      "text/plain": [
       "torch.Size([5, 6])"
      ]
     },
     "execution_count": 88,
     "metadata": {},
     "output_type": "execute_result"
    }
   ],
   "source": [
    "t = torch.zeros(30)\n",
    "t_reshaped = t.reshape((5, 6))\n",
    "t_reshaped.shape"
   ]
  },
  {
   "cell_type": "code",
   "execution_count": 89,
   "metadata": {},
   "outputs": [
    {
     "name": "stdout",
     "output_type": "stream",
     "text": [
      "shape before: torch.Size([1, 2, 1, 4, 1])\n",
      "shape after: torch.Size([1, 2, 4, 1])\n"
     ]
    }
   ],
   "source": [
    "t = torch.zeros(1, 2, 1, 4, 1)\n",
    "print(\"shape before:\", t.shape)\n",
    "t_sqz = torch.squeeze(t, 2)\n",
    "print(\"shape after:\", t_sqz.shape)"
   ]
  },
  {
   "cell_type": "code",
   "execution_count": 90,
   "metadata": {},
   "outputs": [
    {
     "data": {
      "text/plain": [
       "<matplotlib.collections.PathCollection at 0x12eeddf6930>"
      ]
     },
     "execution_count": 90,
     "metadata": {},
     "output_type": "execute_result"
    },
    {
     "data": {
      "image/png": "[encoded data removed]",
      "text/plain": [
       "<Figure size 640x480 with 1 Axes>"
      ]
     },
     "metadata": {},
     "output_type": "display_data"
    }
   ],
   "source": [
    "torch.manual_seed(1)\n",
    "t1 = torch.normal(0, 1, (100, 2))  # generating gaussians\n",
    "t2 = torch.ones((100, 2))\n",
    "# print(\"t2 =\\n\", t2)\n",
    "plt.scatter(t1[:, 0], t1[:, 1])"
   ]
  },
  {
   "cell_type": "code",
   "execution_count": 91,
   "metadata": {},
   "outputs": [
    {
     "data": {
      "text/plain": [
       "tensor([[-1.5256, -0.7502],\n",
       "        [-0.6540, -1.6095],\n",
       "        [-0.1002, -0.6092],\n",
       "        [-0.9798, -1.6091],\n",
       "        [-0.7121,  0.3037],\n",
       "        [-0.7773, -0.2515],\n",
       "        [-0.2223,  1.6871],\n",
       "        [ 0.2284,  0.4676],\n",
       "        [-0.6970, -1.1608],\n",
       "        [ 0.6995,  0.1991]])"
      ]
     },
     "execution_count": 91,
     "metadata": {},
     "output_type": "execute_result"
    }
   ],
   "source": [
    "(t1 * t2)[:10, :]  # element-wise multiplication"
   ]
  },
  {
   "cell_type": "code",
   "execution_count": 92,
   "metadata": {},
   "outputs": [
    {
     "name": "stdout",
     "output_type": "stream",
     "text": [
      "mult_t =\n",
      " tensor([[-2.2758, -2.2758, -2.2758,  ..., -2.2758, -2.2758, -2.2758],\n",
      "        [-2.2635, -2.2635, -2.2635,  ..., -2.2635, -2.2635, -2.2635],\n",
      "        [-0.7094, -0.7094, -0.7094,  ..., -0.7094, -0.7094, -0.7094],\n",
      "        ...,\n",
      "        [-1.8037, -1.8037, -1.8037,  ..., -1.8037, -1.8037, -1.8037],\n",
      "        [-0.3479, -0.3479, -0.3479,  ..., -0.3479, -0.3479, -0.3479],\n",
      "        [-1.0317, -1.0317, -1.0317,  ..., -1.0317, -1.0317, -1.0317]])\n",
      "mult_t.shape = torch.Size([100, 100])\n"
     ]
    }
   ],
   "source": [
    "mult_t = t1 @ t2.T  # numpy operations also work.\n",
    "print(\"mult_t =\\n\", mult_t)\n",
    "print(\"mult_t.shape =\", mult_t.shape)"
   ]
  },
  {
   "cell_type": "code",
   "execution_count": 95,
   "metadata": {},
   "outputs": [
    {
     "name": "stdout",
     "output_type": "stream",
     "text": [
      "[[-2.276 -2.276 -2.276 ... -2.276 -2.276 -2.276]\n",
      " [-2.263 -2.263 -2.263 ... -2.263 -2.263 -2.263]\n",
      " [-0.709 -0.709 -0.709 ... -0.709 -0.709 -0.709]\n",
      " ...\n",
      " [-1.804 -1.804 -1.804 ... -1.804 -1.804 -1.804]\n",
      " [-0.348 -0.348 -0.348 ... -0.348 -0.348 -0.348]\n",
      " [-1.032 -1.032 -1.032 ... -1.032 -1.032 -1.032]]\n",
      "<class 'numpy.ndarray'>\n"
     ]
    }
   ],
   "source": [
    "mult_t_np = mult_t.numpy()\n",
    "\n",
    "print(mult_t_np)\n",
    "print(type(mult_t_np))"
   ]
  },
  {
   "cell_type": "code",
   "execution_count": 98,
   "metadata": {},
   "outputs": [
    {
     "name": "stdout",
     "output_type": "stream",
     "text": [
      "tensor([[-2.2758, -2.2758, -2.2758,  ..., -2.2758, -2.2758, -2.2758],\n",
      "        [-2.2635, -2.2635, -2.2635,  ..., -2.2635, -2.2635, -2.2635],\n",
      "        [-0.7094, -0.7094, -0.7094,  ..., -0.7094, -0.7094, -0.7094],\n",
      "        ...,\n",
      "        [-1.8037, -1.8037, -1.8037,  ..., -1.8037, -1.8037, -1.8037],\n",
      "        [-0.3479, -0.3479, -0.3479,  ..., -0.3479, -0.3479, -0.3479],\n",
      "        [-1.0317, -1.0317, -1.0317,  ..., -1.0317, -1.0317, -1.0317]])\n",
      "<class 'torch.Tensor'>\n"
     ]
    }
   ],
   "source": [
    "# go back to torch\n",
    "mult_torch = torch.tensor(mult_t_np)\n",
    "print(mult_torch)\n",
    "print(type(mult_torch))"
   ]
  },
  {
   "cell_type": "code",
   "execution_count": 99,
   "metadata": {},
   "outputs": [
    {
     "data": {
      "text/plain": [
       "tensor([1., 1., 1., 0., 0., 0.])"
      ]
     },
     "execution_count": 99,
     "metadata": {},
     "output_type": "execute_result"
    }
   ],
   "source": [
    "A = torch.ones(3)\n",
    "B = torch.zeros(3)\n",
    "torch.cat([A, B])"
   ]
  },
  {
   "cell_type": "code",
   "execution_count": 100,
   "metadata": {},
   "outputs": [
    {
     "data": {
      "text/plain": [
       "tensor([[1., 1., 1.],\n",
       "        [0., 0., 0.]])"
      ]
     },
     "execution_count": 100,
     "metadata": {},
     "output_type": "execute_result"
    }
   ],
   "source": [
    "torch.stack([A, B], axis=0)"
   ]
  },
  {
   "cell_type": "code",
   "execution_count": 101,
   "metadata": {},
   "outputs": [
    {
     "data": {
      "text/plain": [
       "tensor([[1., 0.],\n",
       "        [1., 0.],\n",
       "        [1., 0.]])"
      ]
     },
     "execution_count": 101,
     "metadata": {},
     "output_type": "execute_result"
    }
   ],
   "source": [
    "torch.stack([A, B], axis=1)"
   ]
  }
 ],
 "metadata": {
  "kernelspec": {
   "display_name": "base",
   "language": "python",
   "name": "python3"
  },
  "language_info": {
   "codemirror_mode": {
    "name": "ipython",
    "version": 3
   },
   "file_extension": ".py",
   "mimetype": "text/x-python",
   "name": "python",
   "nbconvert_exporter": "python",
   "pygments_lexer": "ipython3",
   "version": "3.12.5"
  }
 },
 "nbformat": 4,
 "nbformat_minor": 2
}
