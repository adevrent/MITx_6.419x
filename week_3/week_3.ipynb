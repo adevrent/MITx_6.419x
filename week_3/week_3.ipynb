{
 "cells": [
  {
   "cell_type": "code",
   "execution_count": 4,
   "metadata": {},
   "outputs": [],
   "source": [
    "import numpy as np"
   ]
  },
  {
   "cell_type": "code",
   "execution_count": 5,
   "metadata": {},
   "outputs": [],
   "source": [
    "def hinge_loss(z):\n",
    "    if z >= 1:\n",
    "        return 0\n",
    "    else:\n",
    "        return 1 - z\n",
    "    \n",
    "def Rn(X, y, theta, lossfunc):\n",
    "    n = X.shape[0]\n",
    "    d = X.shape[1]\n",
    "    sum = 0\n",
    "    \n",
    "    for t in range(n):\n",
    "        z = y[t] - np.dot(theta, X[t, :])\n",
    "        sum += lossfunc(z)\n",
    "    \n",
    "    return sum / n\n",
    "\n",
    "def squared_loss(z):\n",
    "    return z**2 / 2"
   ]
  },
  {
   "cell_type": "code",
   "execution_count": 6,
   "metadata": {},
   "outputs": [
    {
     "data": {
      "text/plain": [
       "1.25"
      ]
     },
     "execution_count": 6,
     "metadata": {},
     "output_type": "execute_result"
    }
   ],
   "source": [
    "X = np.array([\n",
    "    [1, 0, 1],\n",
    "    [1, 1, 1],\n",
    "    [1, 1, -1],\n",
    "    [-1, 1, 1]\n",
    "])\n",
    "\n",
    "y = np.array([2, 2.7, -0.7, 2])\n",
    "\n",
    "theta = np.array([0, 1, 2])\n",
    "\n",
    "Rn(X, y, theta, hinge_loss)"
   ]
  },
  {
   "cell_type": "code",
   "execution_count": 7,
   "metadata": {},
   "outputs": [
    {
     "data": {
      "text/plain": [
       "0.1475"
      ]
     },
     "execution_count": 7,
     "metadata": {},
     "output_type": "execute_result"
    }
   ],
   "source": [
    "Rn(X, y, theta, squared_loss)"
   ]
  },
  {
   "cell_type": "code",
   "execution_count": 10,
   "metadata": {},
   "outputs": [],
   "source": [
    "def RBK(arr1, arr2):\n",
    "    return np.exp(-1/2 * np.linalg.norm(arr1 - arr2)**2)"
   ]
  },
  {
   "cell_type": "code",
   "execution_count": 11,
   "metadata": {},
   "outputs": [
    {
     "data": {
      "text/plain": [
       "0.3678794411714422"
      ]
     },
     "execution_count": 11,
     "metadata": {},
     "output_type": "execute_result"
    }
   ],
   "source": [
    "arr1 = np.array([1, 0, 0])\n",
    "arr2 = np.array([0, 1, 0])\n",
    "RBK(arr1, arr2)"
   ]
  },
  {
   "cell_type": "code",
   "execution_count": null,
   "metadata": {},
   "outputs": [],
   "source": []
  }
 ],
 "metadata": {
  "kernelspec": {
   "display_name": "base",
   "language": "python",
   "name": "python3"
  },
  "language_info": {
   "codemirror_mode": {
    "name": "ipython",
    "version": 3
   },
   "file_extension": ".py",
   "mimetype": "text/x-python",
   "name": "python",
   "nbconvert_exporter": "python",
   "pygments_lexer": "ipython3",
   "version": "3.11.5"
  }
 },
 "nbformat": 4,
 "nbformat_minor": 2
}
