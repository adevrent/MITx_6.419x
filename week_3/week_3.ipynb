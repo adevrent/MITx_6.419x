{
 "cells": [
  {
   "cell_type": "code",
   "execution_count": 1,
   "metadata": {},
   "outputs": [],
   "source": [
    "import numpy as np"
   ]
  },
  {
   "cell_type": "code",
   "execution_count": 2,
   "metadata": {},
   "outputs": [],
   "source": [
    "def hinge_loss(z):\n",
    "    if z >= 1:\n",
    "        return 0\n",
    "    else:\n",
    "        return 1 - z\n",
    "    \n",
    "def Rn(X, y, theta, lossfunc):\n",
    "    n = X.shape[0]\n",
    "    d = X.shape[1]\n",
    "    sum = 0\n",
    "    \n",
    "    for t in range(n):\n",
    "        z = y[t] - np.dot(theta, X[t, :])\n",
    "        sum += lossfunc(z)\n",
    "    \n",
    "    return sum / n\n",
    "\n",
    "def squared_loss(z):\n",
    "    return z**2 / 2"
   ]
  },
  {
   "cell_type": "code",
   "execution_count": 3,
   "metadata": {},
   "outputs": [
    {
     "data": {
      "text/plain": [
       "1.25"
      ]
     },
     "execution_count": 3,
     "metadata": {},
     "output_type": "execute_result"
    }
   ],
   "source": [
    "X = np.array([\n",
    "    [1, 0, 1],\n",
    "    [1, 1, 1],\n",
    "    [1, 1, -1],\n",
    "    [-1, 1, 1]\n",
    "])\n",
    "\n",
    "y = np.array([2, 2.7, -0.7, 2])\n",
    "\n",
    "theta = np.array([0, 1, 2])\n",
    "\n",
    "Rn(X, y, theta, hinge_loss)"
   ]
  },
  {
   "cell_type": "code",
   "execution_count": 4,
   "metadata": {},
   "outputs": [
    {
     "data": {
      "text/plain": [
       "0.1475"
      ]
     },
     "execution_count": 4,
     "metadata": {},
     "output_type": "execute_result"
    }
   ],
   "source": [
    "Rn(X, y, theta, squared_loss)"
   ]
  },
  {
   "cell_type": "code",
   "execution_count": 5,
   "metadata": {},
   "outputs": [],
   "source": [
    "def RBK(arr1, arr2):\n",
    "    return np.exp(-1/2 * np.linalg.norm(arr1 - arr2)**2)"
   ]
  },
  {
   "cell_type": "code",
   "execution_count": 6,
   "metadata": {},
   "outputs": [
    {
     "data": {
      "text/plain": [
       "0.3678794411714422"
      ]
     },
     "execution_count": 6,
     "metadata": {},
     "output_type": "execute_result"
    }
   ],
   "source": [
    "arr1 = np.array([1, 0, 0])\n",
    "arr2 = np.array([0, 1, 0])\n",
    "RBK(arr1, arr2)"
   ]
  },
  {
   "attachments": {
    "image.png": {
     "image/png": "[encoded data removed]"
    }
   },
   "cell_type": "markdown",
   "metadata": {},
   "source": [
    "![image.png](attachment:image.png)"
   ]
  },
  {
   "cell_type": "code",
   "execution_count": 7,
   "metadata": {},
   "outputs": [],
   "source": [
    "import sympy as sy\n",
    "\n",
    "def find_U(X, V, k=1, Lambda=1):\n",
    "    n = X.shape[0]  # num of rows\n",
    "    p = X.shape[1]  # num of cols\n",
    "    \n",
    "    U = sy.Matrix(sy.symbols([f\"u_{i}\" for i in range(1, n+1)]))\n",
    "    \n",
    "    # First step (create the first X)\n",
    "    for i in range(n):\n",
    "        J_prime = 0  # initialize derivative of loss function to 0\n",
    "        for j in range(p):\n",
    "            if X[i, j] is not None:\n",
    "                # print(\"Params:\")\n",
    "                # print(f\"  X_{i}{j} =\", X[i, j])\n",
    "                # print(f\"  U_{i} =\", U[i])\n",
    "                # print(f\"  V_{j} =\", V[j])\n",
    "                J_prime += (X[i, j] - V[j]*U[i]) * -V[j]\n",
    "                # print(\"J_prime_delta =\", (X[i, j] - V[j]*U[i]) * -V[j])\n",
    "                # print(\"Cumulative J_prime =\", J_prime)\n",
    "        J_prime += Lambda * U[i]\n",
    "        # print(\"    FINAL J_prime =\", J_prime)\n",
    "        # print(\"-\"*40)\n",
    "        # Set the derivative to zero to solve for the unknown u_i\n",
    "        solutions = sy.solve(J_prime, U[i])\n",
    "        if solutions:\n",
    "            U[i] = solutions[0]  # Take the first solution\n",
    "        else:\n",
    "            raise ValueError(f\"No solution found for U[{i}]\")\n",
    "    return U"
   ]
  },
  {
   "cell_type": "code",
   "execution_count": 8,
   "metadata": {},
   "outputs": [
    {
     "data": {
      "text/latex": [
       "$\\displaystyle \\left[\\begin{matrix}\\frac{63}{11}\\\\0\\\\\\frac{63}{22}\\\\\\frac{63}{11}\\end{matrix}\\right]$"
      ],
      "text/plain": [
       "Matrix([\n",
       "[63/11],\n",
       "[    0],\n",
       "[63/22],\n",
       "[63/11]])"
      ]
     },
     "execution_count": 8,
     "metadata": {},
     "output_type": "execute_result"
    }
   ],
   "source": [
    "Y = np.array([\n",
    "    [5, None, 7],\n",
    "    [None, 2, None],\n",
    "    [4, None, None],\n",
    "    [None, 3, 6]\n",
    "])\n",
    "\n",
    "X = np.array([[24, 12, 6], [0, 0, 0], [12, 6, 3], [24, 12, 6]])\n",
    "\n",
    "V = np.array([4, 2, 1])\n",
    "\n",
    "find_U(X, V)"
   ]
  },
  {
   "cell_type": "code",
   "execution_count": 9,
   "metadata": {},
   "outputs": [
    {
     "data": {
      "text/latex": [
       "$\\displaystyle 22 u_{1} - 126$"
      ],
      "text/plain": [
       "22*u_1 - 126"
      ]
     },
     "execution_count": 9,
     "metadata": {},
     "output_type": "execute_result"
    }
   ],
   "source": [
    "u1 = sy.Symbol(\"u_1\")\n",
    "\n",
    "J_prime = (24 - 4*u1)*(-4) + (12-2*u1)*(-2) + (6-u1)*(-1) + u1\n",
    "J_prime"
   ]
  },
  {
   "cell_type": "code",
   "execution_count": 10,
   "metadata": {},
   "outputs": [
    {
     "data": {
      "text/latex": [
       "$\\displaystyle \\frac{63}{11}$"
      ],
      "text/plain": [
       "63/11"
      ]
     },
     "execution_count": 10,
     "metadata": {},
     "output_type": "execute_result"
    }
   ],
   "source": [
    "sy.solve(J_prime, u1)[0]"
   ]
  },
  {
   "cell_type": "code",
   "execution_count": 11,
   "metadata": {},
   "outputs": [
    {
     "data": {
      "text/latex": [
       "$\\displaystyle 22 u_{3} - 63$"
      ],
      "text/plain": [
       "22*u_3 - 63"
      ]
     },
     "execution_count": 11,
     "metadata": {},
     "output_type": "execute_result"
    }
   ],
   "source": [
    "u3 = sy.Symbol(\"u_3\")\n",
    "\n",
    "J_prime = (12 - 4*u3)*(-4) + (6-2*u3)*(-2) + (3-u3)*(-1) + u3\n",
    "J_prime"
   ]
  },
  {
   "cell_type": "code",
   "execution_count": 12,
   "metadata": {},
   "outputs": [
    {
     "data": {
      "text/latex": [
       "$\\displaystyle \\frac{63}{22}$"
      ],
      "text/plain": [
       "63/22"
      ]
     },
     "execution_count": 12,
     "metadata": {},
     "output_type": "execute_result"
    }
   ],
   "source": [
    "sy.solve(J_prime, u3)[0]"
   ]
  },
  {
   "cell_type": "code",
   "execution_count": 13,
   "metadata": {},
   "outputs": [
    {
     "data": {
      "text/latex": [
       "$\\displaystyle 22 u_{4} - 126$"
      ],
      "text/plain": [
       "22*u_4 - 126"
      ]
     },
     "execution_count": 13,
     "metadata": {},
     "output_type": "execute_result"
    }
   ],
   "source": [
    "u4 = sy.Symbol(\"u_4\")\n",
    "\n",
    "J_prime = (24 - 4*u4)*(-4) + (12 - 2*u4)*(-2) + (6-u4)*(-1) + u4\n",
    "J_prime"
   ]
  },
  {
   "cell_type": "code",
   "execution_count": 14,
   "metadata": {},
   "outputs": [
    {
     "data": {
      "text/latex": [
       "$\\displaystyle \\frac{63}{11}$"
      ],
      "text/plain": [
       "63/11"
      ]
     },
     "execution_count": 14,
     "metadata": {},
     "output_type": "execute_result"
    }
   ],
   "source": [
    "sy.solve(J_prime, u4)[0]"
   ]
  },
  {
   "cell_type": "code",
   "execution_count": 15,
   "metadata": {},
   "outputs": [],
   "source": [
    "import numpy as np\n",
    "from sklearn.svm import LinearSVC\n",
    "from matplotlib import pyplot as plt"
   ]
  },
  {
   "cell_type": "code",
   "execution_count": 16,
   "metadata": {},
   "outputs": [
    {
     "name": "stdout",
     "output_type": "stream",
     "text": [
      "theta = [ 0.64576381  0.15263047 -0.34050286]\n",
      "theta0 = [-0.49313333]\n"
     ]
    },
    {
     "name": "stderr",
     "output_type": "stream",
     "text": [
      "c:\\ProgramData\\anaconda3\\Lib\\site-packages\\sklearn\\svm\\_classes.py:32: FutureWarning: The default value of `dual` will change from `True` to `'auto'` in 1.5. Set the value of `dual` explicitly to suppress the warning.\n",
      "  warnings.warn(\n"
     ]
    },
    {
     "data": {
      "text/plain": [
       "array([-1,  1,  1])"
      ]
     },
     "execution_count": 16,
     "metadata": {},
     "output_type": "execute_result"
    }
   ],
   "source": [
    "X = np.array([\n",
    "    [1, 2, 3],\n",
    "    [4, 5, 6],\n",
    "    [7, 8, 9]\n",
    "])\n",
    "\n",
    "y = np.array([-1, 1, 1])\n",
    "\n",
    "SVM = LinearSVC()\n",
    "params = SVM.fit(X, y)\n",
    "theta = params.coef_[0]\n",
    "theta0 = params.intercept_\n",
    "print(\"theta =\", theta)\n",
    "print(\"theta0 =\", theta0)\n",
    "SVM.predict(X)"
   ]
  },
  {
   "cell_type": "code",
   "execution_count": 17,
   "metadata": {},
   "outputs": [
    {
     "data": {
      "text/plain": [
       "array([-0.56361714,  0.81005713,  2.1837314 ])"
      ]
     },
     "execution_count": 17,
     "metadata": {},
     "output_type": "execute_result"
    }
   ],
   "source": [
    "y_hat = X @ theta + theta0\n",
    "y_hat"
   ]
  },
  {
   "cell_type": "code",
   "execution_count": 24,
   "metadata": {},
   "outputs": [
    {
     "data": {
      "text/plain": [
       "array([[1, 2, 3],\n",
       "       [1, 2, 3],\n",
       "       [1, 2, 3]])"
      ]
     },
     "execution_count": 24,
     "metadata": {},
     "output_type": "execute_result"
    }
   ],
   "source": [
    "c = np.array([1, 2, 3])\n",
    "A = np.array([\n",
    "    [1, 1, 1],\n",
    "    [2, 2, 2],\n",
    "    [3, 3, 3]\n",
    "])\n",
    "\n",
    "c = np.tile(c, (A.shape[0], 1))\n",
    "c"
   ]
  }
 ],
 "metadata": {
  "kernelspec": {
   "display_name": "base",
   "language": "python",
   "name": "python3"
  },
  "language_info": {
   "codemirror_mode": {
    "name": "ipython",
    "version": 3
   },
   "file_extension": ".py",
   "mimetype": "text/x-python",
   "name": "python",
   "nbconvert_exporter": "python",
   "pygments_lexer": "ipython3",
   "version": "3.11.5"
  }
 },
 "nbformat": 4,
 "nbformat_minor": 2
}
