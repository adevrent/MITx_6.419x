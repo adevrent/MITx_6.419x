{
 "cells": [
  {
   "cell_type": "code",
   "execution_count": 38,
   "metadata": {},
   "outputs": [],
   "source": [
    "import numpy as np\n",
    "import pandas as pd\n",
    "import scipy as sp"
   ]
  },
  {
   "cell_type": "code",
   "execution_count": 39,
   "metadata": {},
   "outputs": [
    {
     "data": {
      "text/html": [
       "<div>\n",
       "<style scoped>\n",
       "    .dataframe tbody tr th:only-of-type {\n",
       "        vertical-align: middle;\n",
       "    }\n",
       "\n",
       "    .dataframe tbody tr th {\n",
       "        vertical-align: top;\n",
       "    }\n",
       "\n",
       "    .dataframe thead th {\n",
       "        text-align: right;\n",
       "    }\n",
       "</style>\n",
       "<table border=\"1\" class=\"dataframe\">\n",
       "  <thead>\n",
       "    <tr style=\"text-align: right;\">\n",
       "      <th></th>\n",
       "      <th>close</th>\n",
       "      <th>var</th>\n",
       "      <th>log_return</th>\n",
       "      <th>log_return_sq</th>\n",
       "    </tr>\n",
       "    <tr>\n",
       "      <th>date</th>\n",
       "      <th></th>\n",
       "      <th></th>\n",
       "      <th></th>\n",
       "      <th></th>\n",
       "    </tr>\n",
       "  </thead>\n",
       "  <tbody>\n",
       "    <tr>\n",
       "      <th>2023-07-21</th>\n",
       "      <td>26.93720</td>\n",
       "      <td>0.000021</td>\n",
       "      <td>0.000000</td>\n",
       "      <td>0.000000e+00</td>\n",
       "    </tr>\n",
       "    <tr>\n",
       "      <th>2023-07-24</th>\n",
       "      <td>26.95300</td>\n",
       "      <td>NaN</td>\n",
       "      <td>0.000586</td>\n",
       "      <td>3.438386e-07</td>\n",
       "    </tr>\n",
       "    <tr>\n",
       "      <th>2023-07-25</th>\n",
       "      <td>26.92810</td>\n",
       "      <td>NaN</td>\n",
       "      <td>-0.000924</td>\n",
       "      <td>8.542517e-07</td>\n",
       "    </tr>\n",
       "    <tr>\n",
       "      <th>2023-07-26</th>\n",
       "      <td>26.94475</td>\n",
       "      <td>NaN</td>\n",
       "      <td>0.000618</td>\n",
       "      <td>3.820750e-07</td>\n",
       "    </tr>\n",
       "    <tr>\n",
       "      <th>2023-07-27</th>\n",
       "      <td>26.94540</td>\n",
       "      <td>NaN</td>\n",
       "      <td>0.000024</td>\n",
       "      <td>5.819262e-10</td>\n",
       "    </tr>\n",
       "    <tr>\n",
       "      <th>...</th>\n",
       "      <td>...</td>\n",
       "      <td>...</td>\n",
       "      <td>...</td>\n",
       "      <td>...</td>\n",
       "    </tr>\n",
       "    <tr>\n",
       "      <th>2024-07-16</th>\n",
       "      <td>33.08615</td>\n",
       "      <td>NaN</td>\n",
       "      <td>0.001287</td>\n",
       "      <td>1.656020e-06</td>\n",
       "    </tr>\n",
       "    <tr>\n",
       "      <th>2024-07-17</th>\n",
       "      <td>33.09380</td>\n",
       "      <td>NaN</td>\n",
       "      <td>0.000231</td>\n",
       "      <td>5.344782e-08</td>\n",
       "    </tr>\n",
       "    <tr>\n",
       "      <th>2024-07-18</th>\n",
       "      <td>33.06975</td>\n",
       "      <td>NaN</td>\n",
       "      <td>-0.000727</td>\n",
       "      <td>5.285092e-07</td>\n",
       "    </tr>\n",
       "    <tr>\n",
       "      <th>2024-07-19</th>\n",
       "      <td>33.05915</td>\n",
       "      <td>NaN</td>\n",
       "      <td>-0.000321</td>\n",
       "      <td>1.027754e-07</td>\n",
       "    </tr>\n",
       "    <tr>\n",
       "      <th>2024-07-22</th>\n",
       "      <td>32.93135</td>\n",
       "      <td>NaN</td>\n",
       "      <td>-0.003873</td>\n",
       "      <td>1.500237e-05</td>\n",
       "    </tr>\n",
       "  </tbody>\n",
       "</table>\n",
       "<p>251 rows × 4 columns</p>\n",
       "</div>"
      ],
      "text/plain": [
       "               close       var  log_return  log_return_sq\n",
       "date                                                     \n",
       "2023-07-21  26.93720  0.000021    0.000000   0.000000e+00\n",
       "2023-07-24  26.95300       NaN    0.000586   3.438386e-07\n",
       "2023-07-25  26.92810       NaN   -0.000924   8.542517e-07\n",
       "2023-07-26  26.94475       NaN    0.000618   3.820750e-07\n",
       "2023-07-27  26.94540       NaN    0.000024   5.819262e-10\n",
       "...              ...       ...         ...            ...\n",
       "2024-07-16  33.08615       NaN    0.001287   1.656020e-06\n",
       "2024-07-17  33.09380       NaN    0.000231   5.344782e-08\n",
       "2024-07-18  33.06975       NaN   -0.000727   5.285092e-07\n",
       "2024-07-19  33.05915       NaN   -0.000321   1.027754e-07\n",
       "2024-07-22  32.93135       NaN   -0.003873   1.500237e-05\n",
       "\n",
       "[251 rows x 4 columns]"
      ]
     },
     "execution_count": 39,
     "metadata": {},
     "output_type": "execute_result"
    }
   ],
   "source": [
    "# df = pd.read_excel(r\"C:\\Users\\adevr\\MITx_6.419x\\vol_model_zeynep\\vol_data_close.xlsx\")\n",
    "df = pd.read_excel(r\"C:\\Users\\Atakan\\atakan_python\\MITx_6.419x\\vol_model_zeynep\\vol_data_close.xlsx\")\n",
    "df = df.iloc[::-1]\n",
    "df = df.set_index(\"date\")\n",
    "\n",
    "df[\"log_return\"] = np.log(df[\"close\"] / df[\"close\"].shift(1))\n",
    "df[\"log_return\"] = df[\"log_return\"].fillna(0)\n",
    "df[\"log_return_sq\"] = df[\"log_return\"]**2\n",
    "# df = df.dropna()\n",
    "\n",
    "df"
   ]
  },
  {
   "cell_type": "code",
   "execution_count": 40,
   "metadata": {},
   "outputs": [
    {
     "data": {
      "text/plain": [
       "251"
      ]
     },
     "execution_count": 40,
     "metadata": {},
     "output_type": "execute_result"
    }
   ],
   "source": [
    "df[\"var\"].shape[0]"
   ]
  },
  {
   "cell_type": "markdown",
   "metadata": {},
   "source": [
    "Variance\n",
    "\n",
    "$\\sigma^2_k = \\sigma^2_{k-1}"
   ]
  },
  {
   "cell_type": "code",
   "execution_count": 41,
   "metadata": {},
   "outputs": [
    {
     "data": {
      "text/plain": [
       "function"
      ]
     },
     "execution_count": 41,
     "metadata": {},
     "output_type": "execute_result"
    }
   ],
   "source": [
    "def log_likelihood(x, var, mu=0):  # vectorized\n",
    "    return -0.5 * np.log(2*np.pi*var) - 0.5 * (x - mu)**2 / var\n",
    "\n",
    "def negative_log_likelihood(x, var, mu=0):\n",
    "    return -(-0.5 * np.log(2*np.pi*var) - 0.5 * (x - mu)**2 / var)\n",
    "\n",
    "def sum_negative_log_likelihood(x_arr, var_arr, mu=0):\n",
    "    return -(-0.5 * np.log(2*np.pi*x_arr) - 0.5 * (x - mu)**2 / var_arr).sum()\n",
    "\n",
    "type(log_likelihood)"
   ]
  },
  {
   "cell_type": "code",
   "execution_count": 42,
   "metadata": {},
   "outputs": [
    {
     "name": "stdout",
     "output_type": "stream",
     "text": [
      "               close       var  log_return  log_return_sq  log_likelihood\n",
      "date                                                                     \n",
      "2023-07-21  26.93720  0.000021    0.000000   0.000000e+00        4.454886\n",
      "2023-07-24  26.95300  0.000021    0.000586   3.438386e-07        4.446889\n",
      "2023-07-25  26.92810  0.000021   -0.000924   8.542517e-07        4.435016\n",
      "2023-07-26  26.94475  0.000021    0.000618   3.820750e-07        4.445999\n",
      "2023-07-27  26.94540  0.000021    0.000024   5.819262e-10        4.454873\n",
      "...              ...       ...         ...            ...             ...\n",
      "2024-07-16  33.08615  0.000021    0.001287   1.656020e-06        4.416367\n",
      "2024-07-17  33.09380  0.000021    0.000231   5.344782e-08        4.453643\n",
      "2024-07-18  33.06975  0.000021   -0.000727   5.285092e-07        4.442593\n",
      "2024-07-19  33.05915  0.000021   -0.000321   1.027754e-07        4.452496\n",
      "2024-07-22  32.93135  0.000021   -0.003873   1.500237e-05        4.105927\n",
      "\n",
      "[251 rows x 5 columns]\n"
     ]
    }
   ],
   "source": [
    "alpha = 0\n",
    "\n",
    "for i in range(1, df[\"var\"].shape[0]):\n",
    "    df[\"var\"].iloc[i] = alpha * df[\"log_return_sq\"].iloc[i-1] + (1 - alpha) * df[\"var\"].iloc[i-1]\n",
    "\n",
    "df[\"log_likelihood\"] = -negative_log_likelihood(df[\"log_return\"], df[\"var\"])\n",
    "\n",
    "print(df)"
   ]
  },
  {
   "cell_type": "code",
   "execution_count": 43,
   "metadata": {},
   "outputs": [
    {
     "data": {
      "text/plain": [
       "4.466555526915753"
      ]
     },
     "execution_count": 43,
     "metadata": {},
     "output_type": "execute_result"
    }
   ],
   "source": [
    "-0.5 * np.log(2*np.pi*0.000021) -0.5 * 0"
   ]
  },
  {
   "cell_type": "code",
   "execution_count": 44,
   "metadata": {},
   "outputs": [],
   "source": [
    "def calc_gradient(x_arr, var_arr, mu=0):\n",
    "    dl_dsigma2 = -0.5 * 1/var_arr + 0.5 * (x_arr - mu)**2 / var_arr\n",
    "    dsigma2_dalpha = (x_arr.shift(1))**2 - var_arr.shift(1)\n",
    "    return (dl_dsigma2 * dsigma2_dalpha).mean()"
   ]
  },
  {
   "cell_type": "code",
   "execution_count": 45,
   "metadata": {},
   "outputs": [
    {
     "data": {
      "text/html": [
       "<div>\n",
       "<style scoped>\n",
       "    .dataframe tbody tr th:only-of-type {\n",
       "        vertical-align: middle;\n",
       "    }\n",
       "\n",
       "    .dataframe tbody tr th {\n",
       "        vertical-align: top;\n",
       "    }\n",
       "\n",
       "    .dataframe thead th {\n",
       "        text-align: right;\n",
       "    }\n",
       "</style>\n",
       "<table border=\"1\" class=\"dataframe\">\n",
       "  <thead>\n",
       "    <tr style=\"text-align: right;\">\n",
       "      <th></th>\n",
       "      <th>close</th>\n",
       "      <th>var</th>\n",
       "      <th>log_return</th>\n",
       "      <th>log_return_sq</th>\n",
       "    </tr>\n",
       "    <tr>\n",
       "      <th>date</th>\n",
       "      <th></th>\n",
       "      <th></th>\n",
       "      <th></th>\n",
       "      <th></th>\n",
       "    </tr>\n",
       "  </thead>\n",
       "  <tbody>\n",
       "    <tr>\n",
       "      <th>2023-07-21</th>\n",
       "      <td>26.93720</td>\n",
       "      <td>0.000021</td>\n",
       "      <td>0.000000</td>\n",
       "      <td>0.000000e+00</td>\n",
       "    </tr>\n",
       "    <tr>\n",
       "      <th>2023-07-24</th>\n",
       "      <td>26.95300</td>\n",
       "      <td>NaN</td>\n",
       "      <td>0.000586</td>\n",
       "      <td>3.438386e-07</td>\n",
       "    </tr>\n",
       "    <tr>\n",
       "      <th>2023-07-25</th>\n",
       "      <td>26.92810</td>\n",
       "      <td>NaN</td>\n",
       "      <td>-0.000924</td>\n",
       "      <td>8.542517e-07</td>\n",
       "    </tr>\n",
       "    <tr>\n",
       "      <th>2023-07-26</th>\n",
       "      <td>26.94475</td>\n",
       "      <td>NaN</td>\n",
       "      <td>0.000618</td>\n",
       "      <td>3.820750e-07</td>\n",
       "    </tr>\n",
       "    <tr>\n",
       "      <th>2023-07-27</th>\n",
       "      <td>26.94540</td>\n",
       "      <td>NaN</td>\n",
       "      <td>0.000024</td>\n",
       "      <td>5.819262e-10</td>\n",
       "    </tr>\n",
       "    <tr>\n",
       "      <th>...</th>\n",
       "      <td>...</td>\n",
       "      <td>...</td>\n",
       "      <td>...</td>\n",
       "      <td>...</td>\n",
       "    </tr>\n",
       "    <tr>\n",
       "      <th>2024-07-16</th>\n",
       "      <td>33.08615</td>\n",
       "      <td>NaN</td>\n",
       "      <td>0.001287</td>\n",
       "      <td>1.656020e-06</td>\n",
       "    </tr>\n",
       "    <tr>\n",
       "      <th>2024-07-17</th>\n",
       "      <td>33.09380</td>\n",
       "      <td>NaN</td>\n",
       "      <td>0.000231</td>\n",
       "      <td>5.344782e-08</td>\n",
       "    </tr>\n",
       "    <tr>\n",
       "      <th>2024-07-18</th>\n",
       "      <td>33.06975</td>\n",
       "      <td>NaN</td>\n",
       "      <td>-0.000727</td>\n",
       "      <td>5.285092e-07</td>\n",
       "    </tr>\n",
       "    <tr>\n",
       "      <th>2024-07-19</th>\n",
       "      <td>33.05915</td>\n",
       "      <td>NaN</td>\n",
       "      <td>-0.000321</td>\n",
       "      <td>1.027754e-07</td>\n",
       "    </tr>\n",
       "    <tr>\n",
       "      <th>2024-07-22</th>\n",
       "      <td>32.93135</td>\n",
       "      <td>NaN</td>\n",
       "      <td>-0.003873</td>\n",
       "      <td>1.500237e-05</td>\n",
       "    </tr>\n",
       "  </tbody>\n",
       "</table>\n",
       "<p>251 rows × 4 columns</p>\n",
       "</div>"
      ],
      "text/plain": [
       "               close       var  log_return  log_return_sq\n",
       "date                                                     \n",
       "2023-07-21  26.93720  0.000021    0.000000   0.000000e+00\n",
       "2023-07-24  26.95300       NaN    0.000586   3.438386e-07\n",
       "2023-07-25  26.92810       NaN   -0.000924   8.542517e-07\n",
       "2023-07-26  26.94475       NaN    0.000618   3.820750e-07\n",
       "2023-07-27  26.94540       NaN    0.000024   5.819262e-10\n",
       "...              ...       ...         ...            ...\n",
       "2024-07-16  33.08615       NaN    0.001287   1.656020e-06\n",
       "2024-07-17  33.09380       NaN    0.000231   5.344782e-08\n",
       "2024-07-18  33.06975       NaN   -0.000727   5.285092e-07\n",
       "2024-07-19  33.05915       NaN   -0.000321   1.027754e-07\n",
       "2024-07-22  32.93135       NaN   -0.003873   1.500237e-05\n",
       "\n",
       "[251 rows x 4 columns]"
      ]
     },
     "execution_count": 45,
     "metadata": {},
     "output_type": "execute_result"
    }
   ],
   "source": [
    "import numpy as np\n",
    "import pandas as pd\n",
    "from scipy.optimize import minimize\n",
    "import matplotlib.pyplot as plt\n",
    "\n",
    "# Load and prepare data\n",
    "df = pd.read_excel(r\"C:\\Users\\Atakan\\atakan_python\\MITx_6.419x\\vol_model_zeynep\\vol_data_close.xlsx\")\n",
    "df = df.iloc[::-1]\n",
    "df = df.set_index(\"date\")\n",
    "df[\"log_return\"] = np.log(df[\"close\"] / df[\"close\"].shift(1))\n",
    "df[\"log_return\"] = df[\"log_return\"].fillna(0)\n",
    "df[\"log_return_sq\"] = df[\"log_return\"]**2\n",
    "\n",
    "# Define the negative log-likelihood function\n",
    "def negative_log_likelihood(x, var, mu=0):\n",
    "    return -(-0.5 * np.log(2 * np.pi * var) - 0.5 * (x - mu)**2 / var)\n",
    "\n",
    "# Define the objective function to minimize\n",
    "def sum_negative_log_likelihood(alpha, x_arr, initial_var):\n",
    "    var_arr = np.zeros_like(x_arr)\n",
    "    var_arr[0] = initial_var\n",
    "    for i in range(1, len(x_arr)):\n",
    "        var_arr[i] = alpha * x_arr[i-1]**2 + (1 - alpha) * var_arr[i-1]\n",
    "    \n",
    "    nll_sum = np.sum(negative_log_likelihood(x_arr, var_arr))\n",
    "    return nll_sum\n",
    "\n",
    "df"
   ]
  },
  {
   "cell_type": "code",
   "execution_count": 46,
   "metadata": {},
   "outputs": [
    {
     "name": "stderr",
     "output_type": "stream",
     "text": [
      "C:\\Users\\Atakan\\AppData\\Local\\Temp\\ipykernel_21216\\2266272948.py:23: FutureWarning: Series.__getitem__ treating keys as positions is deprecated. In a future version, integer keys will always be treated as labels (consistent with DataFrame behavior). To access a value by position, use `ser.iloc[pos]`\n",
      "  var_arr[i] = alpha * x_arr[i-1]**2 + (1 - alpha) * var_arr[i-1]\n"
     ]
    },
    {
     "data": {
      "text/plain": [
       "-989.5402390389909"
      ]
     },
     "execution_count": 46,
     "metadata": {},
     "output_type": "execute_result"
    }
   ],
   "source": [
    "alpha = 0\n",
    "x_arr = df[\"log_return\"]\n",
    "initial_var = 0.000021\n",
    "\n",
    "sum_negative_log_likelihood(alpha, x_arr, initial_var)\n",
    "\n",
    "# # Minimize the objective function with respect to alpha\n",
    "# result = minimize(sum_negative_log_likelihood, x0=0.2, args=(df[\"log_return\"].values, initial_var), bounds=[(0, 1)])\n",
    "# optimal_alpha = result.x[0]\n",
    "# optimal_alpha\n",
    "\n",
    "alpha_arr = linspace"
   ]
  },
  {
   "cell_type": "code",
   "execution_count": null,
   "metadata": {},
   "outputs": [],
   "source": []
  },
  {
   "cell_type": "markdown",
   "metadata": {},
   "source": [
    "\n",
    "**Problem:**\n",
    "\n",
    "$\\alpha^* = argmin_{\\alpha} \\quad L(\\alpha; x_1, \\cdots, x_n) $\n",
    "\n",
    "____________\n",
    "\n",
    "Log Likelihood:\n",
    "\n",
    "$l_k(\\sigma_k^2 ; x_1, \\cdots, x_k) = -0.5 \\times (ln(2 \\pi) + ln(\\sigma_k^2) + \\frac{x_k^2}{\\sigma_k^2})$\n",
    "\n",
    "Sum of Log Likelihoods:\n",
    "\n",
    "$ L(\\alpha; x_1, \\cdots, x_n) = l_1(\\sigma_1^2 ; x_k) + \\cdots + l_k(\\sigma_k^2 ; x_k) + \\cdots + l_n(\\sigma_n^2 ; x_k) =  \\sum_{k=1}^n l_k(\\sigma_k^2 ; x_k) $\n",
    "\n",
    "Variance recursive formula:\n",
    "\n",
    "$\\sigma_k^2 = \\alpha x_{k-1}^2 + (1-\\alpha) \\sigma_{k-1}^2 $\n",
    "\n",
    "________________\n",
    "\n",
    "Derivative of $l_k(\\sigma_k^2 ; x_k)$ w.r.t. $\\alpha$ for any $\\sigma_k^2$ s.t. $1 < k < n :$\n",
    "\n",
    "$\\Large\\frac{\\partial l_k}{\\partial \\alpha} = \\frac{\\partial l_k}{\\partial \\sigma_k^2} \\times \\frac{\\sigma_k^2}{\\partial \\sigma_{k-1}^2} \\times \\frac{\\sigma_{k-1}^2}{\\partial \\sigma_{k-2}^2} \\times \\cdots \\times \\frac{\\sigma_{1}^2}{\\partial \\alpha}$\n",
    "\n",
    "Derivative of $L(\\alpha; n)$ w.r.t. $alpha$:\n",
    "\n",
    "$\\Large\\frac{\\partial L}{\\partial \\alpha} = \\frac{\\partial l_1}{\\partial \\alpha} + \\frac{\\partial l_2}{\\partial \\alpha} + \\cdots + \\frac{\\partial l_n}{\\partial \\alpha} $\n",
    "\n",
    "__________________\n",
    "\n",
    "Gradient descent update for $\\alpha$:\n",
    "\n",
    "$\\alpha \\leftarrow \\alpha - \\eta \\Large\\frac{\\partial L}{\\partial \\alpha}$"
   ]
  }
 ],
 "metadata": {
  "kernelspec": {
   "display_name": "base",
   "language": "python",
   "name": "python3"
  },
  "language_info": {
   "codemirror_mode": {
    "name": "ipython",
    "version": 3
   },
   "file_extension": ".py",
   "mimetype": "text/x-python",
   "name": "python",
   "nbconvert_exporter": "python",
   "pygments_lexer": "ipython3",
   "version": "3.11.7"
  }
 },
 "nbformat": 4,
 "nbformat_minor": 2
}
