{
 "cells": [
  {
   "cell_type": "code",
   "execution_count": 31,
   "metadata": {},
   "outputs": [],
   "source": [
    "import scipy.stats as st\n",
    "import numpy as np"
   ]
  },
  {
   "cell_type": "code",
   "execution_count": 32,
   "metadata": {},
   "outputs": [
    {
     "name": "stdout",
     "output_type": "stream",
     "text": [
      "q = 1.0000000735600918\n"
     ]
    }
   ],
   "source": [
    "n = 1000000000000000\n",
    "k = n/2\n",
    "theta = 2/n\n",
    "\n",
    "alpha = k\n",
    "beta = 1/theta\n",
    "\n",
    "level = 0.95\n",
    "scale = 1/beta\n",
    "\n",
    "q = st.gamma.ppf(0.95, a=alpha, scale=scale)\n",
    "print(\"q =\", q)"
   ]
  },
  {
   "cell_type": "code",
   "execution_count": 33,
   "metadata": {},
   "outputs": [
    {
     "name": "stdout",
     "output_type": "stream",
     "text": [
      "beta_hat = [-0.2  1.8]\n",
      "   shape: (2,)\n"
     ]
    }
   ],
   "source": [
    "X = np.array(\n",
    "    [\n",
    "        [1, 1],\n",
    "        [1, 2],\n",
    "        [1, 3],\n",
    "        [1, 4],\n",
    "        [1, 5]\n",
    "    ]\n",
    ")\n",
    "\n",
    "Y = np.array(\n",
    "    [1,\n",
    "     5,\n",
    "     4, \n",
    "     7, \n",
    "     9]\n",
    ")\n",
    "\n",
    "beta_hat = np.linalg.inv(X.transpose() @ X) @ X.transpose() @ Y  # find LSE for beta\n",
    "print(\"beta_hat =\", beta_hat)\n",
    "print(\"   shape:\", beta_hat.shape)"
   ]
  },
  {
   "cell_type": "code",
   "execution_count": 35,
   "metadata": {},
   "outputs": [
    {
     "name": "stdout",
     "output_type": "stream",
     "text": [
      "beta_hat_2 = [0.45652174 0.48913043]\n",
      "   shape: (2,)\n",
      "b2 = 2.0444444444444434\n"
     ]
    }
   ],
   "source": [
    "Y = np.array(\n",
    "    [\n",
    "        [1, 1],\n",
    "        [1, 5],\n",
    "        [1, 4],\n",
    "        [1, 7],\n",
    "        [1, 9]\n",
    "    ]\n",
    ")\n",
    "\n",
    "X = np.array(\n",
    "    [1,\n",
    "     2,\n",
    "     3, \n",
    "     4, \n",
    "     5]\n",
    ")\n",
    "\n",
    "beta_hat_2 = np.linalg.inv(Y.transpose() @ Y) @ Y.transpose() @ X  # find LSE for swapped arrays (regression of X on Y)\n",
    "print(\"beta_hat_2 =\", beta_hat_2)\n",
    "print(\"   shape:\", beta_hat_2.shape)\n",
    "\n",
    "b2 = 1/beta_hat_2[1]\n",
    "print(\"b2 =\", b2)"
   ]
  },
  {
   "cell_type": "code",
   "execution_count": 37,
   "metadata": {},
   "outputs": [
    {
     "data": {
      "text/plain": [
       "0.2112995473337107"
      ]
     },
     "execution_count": 37,
     "metadata": {},
     "output_type": "execute_result"
    }
   ],
   "source": [
    "st.norm.cdf(-1.25)*2"
   ]
  }
 ],
 "metadata": {
  "kernelspec": {
   "display_name": "base",
   "language": "python",
   "name": "python3"
  },
  "language_info": {
   "codemirror_mode": {
    "name": "ipython",
    "version": 3
   },
   "file_extension": ".py",
   "mimetype": "text/x-python",
   "name": "python",
   "nbconvert_exporter": "python",
   "pygments_lexer": "ipython3",
   "version": "3.11.5"
  }
 },
 "nbformat": 4,
 "nbformat_minor": 2
}
