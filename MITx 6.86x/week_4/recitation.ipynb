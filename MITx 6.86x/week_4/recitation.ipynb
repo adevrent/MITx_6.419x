{
 "cells": [
  {
   "cell_type": "code",
   "execution_count": 3,
   "metadata": {},
   "outputs": [],
   "source": [
    "import numpy as np\n",
    "from keras.datasets import mnist\n",
    "(x_train, y_train), (x_test, y_test) = mnist.load_data()"
   ]
  },
  {
   "cell_type": "code",
   "execution_count": 4,
   "metadata": {},
   "outputs": [
    {
     "name": "stdout",
     "output_type": "stream",
     "text": [
      "x_train.shape = (60000, 784)\n",
      "y_train.shape = (60000,)\n"
     ]
    }
   ],
   "source": [
    "x_train = x_train.reshape((x_train.shape[0], x_train.shape[1]*x_train.shape[2]))\n",
    "x_test = x_test.reshape((x_test.shape[0], x_test.shape[1]*x_test.shape[2]))\n",
    "\n",
    "print(\"x_train.shape =\", x_train.shape)\n",
    "print(\"y_train.shape =\", y_train.shape)"
   ]
  },
  {
   "cell_type": "code",
   "execution_count": 5,
   "metadata": {},
   "outputs": [
    {
     "name": "stdout",
     "output_type": "stream",
     "text": [
      "train_indices = [False False  True ... False False False]\n",
      "test_indices = [False False False ...  True False False]\n",
      "x_train.shape = (11791, 784)\n",
      "x_test.shape = (1991, 784)\n",
      "y_train.shape = (11791,)\n",
      "y_test.shape = (1991,)\n"
     ]
    }
   ],
   "source": [
    "# Take only numbers labeled as 4 and 9\n",
    "train_indices = np.logical_or(np.equal(y_train, 4), np.equal(y_train, 9))\n",
    "test_indices = np.logical_or(np.equal(y_test, 4), np.equal(y_test, 9))\n",
    "print(\"train_indices =\", train_indices)\n",
    "print(\"test_indices =\", test_indices)\n",
    "\n",
    "# Filter datasets\n",
    "x_train = x_train[train_indices]\n",
    "x_test = x_test[test_indices]\n",
    "y_train = y_train[train_indices]\n",
    "y_test = y_test[test_indices]\n",
    "\n",
    "# Normalize values\n",
    "x_train = x_train / 255\n",
    "\n",
    "\n",
    "print(\"x_train.shape =\", x_train.shape)\n",
    "print(\"x_test.shape =\", x_test.shape)\n",
    "print(\"y_train.shape =\", y_train.shape)\n",
    "print(\"y_test.shape =\", y_test.shape)\n"
   ]
  },
  {
   "cell_type": "code",
   "execution_count": 6,
   "metadata": {},
   "outputs": [],
   "source": [
    "# Shuffle datapoints\n",
    "\n",
    "np.random.seed(42)\n",
    "indices = np.arange(len(x_train))\n",
    "np.random.shuffle(indices)\n",
    "\n",
    "x_train = x_train[indices]\n",
    "y_train = y_train[indices]"
   ]
  },
  {
   "cell_type": "code",
   "execution_count": 8,
   "metadata": {},
   "outputs": [],
   "source": [
    "close_enough = lambda a, b: abs(b-a) < 1e-6  # define a close enough function\n",
    "\n",
    "# Sanity check, we expect normalized datasets to be spread between 0 and 1\n",
    "assert close_enough(np.min(x_train), 0)\n",
    "assert close_enough(np.max(x_train), 1)"
   ]
  }
 ],
 "metadata": {
  "kernelspec": {
   "display_name": "base",
   "language": "python",
   "name": "python3"
  },
  "language_info": {
   "codemirror_mode": {
    "name": "ipython",
    "version": 3
   },
   "file_extension": ".py",
   "mimetype": "text/x-python",
   "name": "python",
   "nbconvert_exporter": "python",
   "pygments_lexer": "ipython3",
   "version": "3.11.7"
  }
 },
 "nbformat": 4,
 "nbformat_minor": 2
}
