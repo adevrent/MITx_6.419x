{
 "cells": [
  {
   "cell_type": "code",
   "execution_count": null,
   "metadata": {},
   "outputs": [],
   "source": [
    "import numpy as np\n",
    "\n",
    "def E_step(X, Mu, Sigma2, P):\n",
    "    \"\"\"Calculates p(j | i) value (probability that x(i) belongs to dist. j)\n",
    "    given parameters Mu, Sigma2, P\n",
    "\n",
    "    Args:\n",
    "        X (np.array): (n, d) array of data points. n: # of datapoints, d: dim of datapoints\n",
    "        Mu (np.array): (k,) array. mean values of k distributions.\n",
    "        Sigma2 (np.array): (k,) array. variance values of k distributions.\n",
    "        P (np.array): (k,) array. Weights of k distributions in the total mixture distributions.\n",
    "    \"\"\"\n",
    "    n, d = X.shape\n",
    "    k = Mu.shape[0]\n",
    "    \n",
    "    p_x_j = 1/(np.pi)"
   ]
  },
  {
   "cell_type": "code",
   "execution_count": null,
   "metadata": {},
   "outputs": [],
   "source": [
    "def univariate_E_step(X, Mu, Sigma2, P):\n",
    "    n, d = X.shape\n",
    "    k = Mu.shape[0]\n",
    "    \n",
    "    p_x_j = 1/np.sqrt(2 * np.pi * Sigma2) * np.exp()"
   ]
  }
 ],
 "metadata": {
  "language_info": {
   "name": "python"
  }
 },
 "nbformat": 4,
 "nbformat_minor": 2
}
