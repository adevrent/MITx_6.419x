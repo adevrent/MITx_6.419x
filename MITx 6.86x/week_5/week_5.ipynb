{
 "cells": [
  {
   "cell_type": "code",
   "execution_count": 10,
   "metadata": {},
   "outputs": [],
   "source": [
    "import numpy as np"
   ]
  },
  {
   "cell_type": "code",
   "execution_count": 11,
   "metadata": {},
   "outputs": [
    {
     "name": "stdout",
     "output_type": "stream",
     "text": [
      "cost = [3. 2.]\n",
      "total cost = 5.0\n"
     ]
    }
   ],
   "source": [
    "X1 = np.array([\n",
    "    [-1, 2],\n",
    "    [-2, 1],\n",
    "    [-1, 0]\n",
    "])\n",
    "\n",
    "X2 = np.array([\n",
    "    [2, 1],\n",
    "    [3, 2]\n",
    "])\n",
    "\n",
    "Z = np.array([\n",
    "    [-1, 1],\n",
    "    [2, 2]\n",
    "])\n",
    "\n",
    "cost = []\n",
    "cost.append(np.linalg.norm(X1 - Z[0])**2)\n",
    "cost.append(np.linalg.norm(X2 - Z[1])**2)\n",
    "    \n",
    "print(\"cost =\", np.round(cost, 2))\n",
    "print(\"total cost =\", sum(cost))"
   ]
  },
  {
   "cell_type": "code",
   "execution_count": 12,
   "metadata": {},
   "outputs": [
    {
     "data": {
      "text/plain": [
       "0.1764705882352941"
      ]
     },
     "execution_count": 12,
     "metadata": {},
     "output_type": "execute_result"
    }
   ],
   "source": [
    "0.3 * 0.3 / 0.51"
   ]
  },
  {
   "cell_type": "code",
   "execution_count": 13,
   "metadata": {},
   "outputs": [
    {
     "data": {
      "text/plain": [
       "-1.0"
      ]
     },
     "execution_count": 13,
     "metadata": {},
     "output_type": "execute_result"
    }
   ],
   "source": [
    "def log_likelihood_multivariate_gaussian(x, mu, Sigma):\n",
    "    \"\"\"Calculates the probability that X=x if mean is mu and covariance matrix is Sigma.\n",
    "\n",
    "    Args:\n",
    "        x (np.array): d dimensional vector\n",
    "        mu (np.array): d dimensional vector\n",
    "        Sigma (np.array): d x d covariance matrix\n",
    "    \"\"\"\n",
    "    d = len(x)\n",
    "    constant = 1/np.sqrt((2*np.pi)**d * np.linalg.det(Sigma))\n",
    "    exp_term = -0.5 * ((x - mu).T @ np.linalg.inv(Sigma) @ (x - mu))\n",
    "    \n",
    "    return np.round(np.log(constant * np.exp(exp_term)), 2)\n",
    "\n",
    "x = np.array([1/np.sqrt(np.pi), 2])\n",
    "d = len(x)\n",
    "mu = np.array([0, 2])\n",
    "sigma2 = 1/(2*np.pi)\n",
    "Sigma = np.eye(d) * sigma2\n",
    "\n",
    "log_likelihood_multivariate_gaussian(x, mu, Sigma)"
   ]
  }
 ],
 "metadata": {
  "kernelspec": {
   "display_name": "base",
   "language": "python",
   "name": "python3"
  },
  "language_info": {
   "codemirror_mode": {
    "name": "ipython",
    "version": 3
   },
   "file_extension": ".py",
   "mimetype": "text/x-python",
   "name": "python",
   "nbconvert_exporter": "python",
   "pygments_lexer": "ipython3",
   "version": "3.11.5"
  }
 },
 "nbformat": 4,
 "nbformat_minor": 2
}
