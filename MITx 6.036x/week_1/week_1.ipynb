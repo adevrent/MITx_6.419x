{
 "cells": [
  {
   "cell_type": "code",
   "execution_count": 38,
   "metadata": {},
   "outputs": [],
   "source": [
    "import numpy as np"
   ]
  },
  {
   "cell_type": "code",
   "execution_count": 39,
   "metadata": {},
   "outputs": [
    {
     "data": {
      "text/plain": [
       "20"
      ]
     },
     "execution_count": 39,
     "metadata": {},
     "output_type": "execute_result"
    }
   ],
   "source": [
    "w = np.array([1, 5, -3, 2])\n",
    "x = np.array([8, 2, 4, 7])\n",
    "\n",
    "np.inner(w, x).tolist()"
   ]
  },
  {
   "cell_type": "code",
   "execution_count": 40,
   "metadata": {},
   "outputs": [],
   "source": [
    "w = np.array([])"
   ]
  },
  {
   "cell_type": "code",
   "execution_count": 41,
   "metadata": {},
   "outputs": [],
   "source": [
    "def add_two_lists(a, b):\n",
    "    return [a[i] + b[i] for i in range(len(a))]"
   ]
  },
  {
   "cell_type": "code",
   "execution_count": 42,
   "metadata": {},
   "outputs": [
    {
     "data": {
      "text/plain": [
       "[3, 3, 3]"
      ]
     },
     "execution_count": 42,
     "metadata": {},
     "output_type": "execute_result"
    }
   ],
   "source": [
    "a = [1, 1, 1]\n",
    "b = [2, 2, 2]\n",
    "add_two_lists(a, b)"
   ]
  },
  {
   "cell_type": "code",
   "execution_count": 43,
   "metadata": {},
   "outputs": [],
   "source": [
    "def add_n(n):\n",
    "    return lambda v: [v[i] + n for i in range(len(v))]"
   ]
  },
  {
   "cell_type": "code",
   "execution_count": 44,
   "metadata": {},
   "outputs": [],
   "source": [
    "def array_mult(A, B):\n",
    "    m = len(A)\n",
    "    k = len(A[0])\n",
    "    n = len(B[0])\n",
    "    \n",
    "    H = []\n",
    "    \n",
    "    for i in range(m):\n",
    "        H_row = []\n",
    "        for j in range(n):\n",
    "            dotprod = sum([A[i][t] * B[t][j] for t in range(k)])\n",
    "            H_row.append(dotprod)\n",
    "        H.append(H_row)\n",
    "        \n",
    "    return H"
   ]
  },
  {
   "cell_type": "code",
   "execution_count": 45,
   "metadata": {},
   "outputs": [
    {
     "data": {
      "text/plain": [
       "5.0"
      ]
     },
     "execution_count": 45,
     "metadata": {},
     "output_type": "execute_result"
    }
   ],
   "source": [
    "import numpy as np\n",
    "def cv(value_list):\n",
    "    return np.array([value_list]).T\n",
    "\n",
    "c = [3, 4]\n",
    "# print(\"shape:\", cv(c).shape)\n",
    "\n",
    "def length(col_v):\n",
    "    return (col_v.T @ col_v)[0, 0]**0.5\n",
    "    \n",
    "length(cv(c))"
   ]
  },
  {
   "cell_type": "code",
   "execution_count": 46,
   "metadata": {},
   "outputs": [],
   "source": [
    "import numpy as np"
   ]
  },
  {
   "cell_type": "code",
   "execution_count": 47,
   "metadata": {},
   "outputs": [
    {
     "name": "stdout",
     "output_type": "stream",
     "text": [
      "[[ 5  7  9]\n",
      " [ 8 10 12]]\n"
     ]
    }
   ],
   "source": [
    "import numpy as np\n",
    "\n",
    "# Example row vector of shape (1, m)\n",
    "v = np.array([[1, 2, 3]])\n",
    "\n",
    "# Example matrix of shape (n, m)\n",
    "M = np.array([[4, 5, 6], \n",
    "              [7, 8, 9]])\n",
    "\n",
    "# Broadcasting and adding v to M\n",
    "result = M + v\n",
    "\n",
    "print(result)\n"
   ]
  },
  {
   "cell_type": "code",
   "execution_count": 48,
   "metadata": {},
   "outputs": [],
   "source": [
    "import numpy as np\n",
    "# data is dimension d by n\n",
    "# labels is dimension 1 by n\n",
    "# ths is dimension d by m\n",
    "# th0s is dimension 1 by m\n",
    "# return matrix of integers indicating number of data points correct for\n",
    "# each separator:  dimension m x 1\n",
    "def score_vectorized(data, labels, ths, th0s):\n",
    "   pos = np.sign(np.dot(np.transpose(ths), data) + np.transpose(th0s))\n",
    "   return np.sum(pos == labels, axis = 1, keepdims = True)\n",
    "def best_separator(data, labels, ths, th0s):\n",
    "   best_index = np.argmax(score_mat(data, labels, ths, th0s))\n",
    "   return cv(ths[:,best_index]), th0s[:,best_index:best_index+1]"
   ]
  },
  {
   "cell_type": "code",
   "execution_count": 49,
   "metadata": {},
   "outputs": [],
   "source": [
    "# import numpy as np\n",
    "\n",
    "# def score_vectorized(data, labels, thetas, theta_0s):\n",
    "#     print(\"data.shape =\", data.shape)\n",
    "#     print(\"labels.shape =\", labels.shape)\n",
    "#     print(\"thetas.shape =\", thetas.shape)\n",
    "#     print(\"theta_0s.shape =\", theta_0s.shape)\n",
    "    \n",
    "    \n",
    "#     return np.sum(np.sign((data.T @ thetas) + theta_0s) == labels.T, axis=0)\n",
    "\n",
    "# def best_separator(data, labels, ths, th0s):\n",
    "#     best_idx = np.argmax(score_vectorized(data, labels, ths, th0s))\n",
    "#     return (ths[:, best_idx], th0s[best_idx])"
   ]
  },
  {
   "cell_type": "code",
   "execution_count": 50,
   "metadata": {},
   "outputs": [
    {
     "name": "stdout",
     "output_type": "stream",
     "text": [
      "Test case 1 score_vectorized: Correct\n",
      "Test case 1 best_separator: Not Correct\n",
      "Test case 2 score_vectorized: Not Correct\n",
      "Test case 2 best_separator: Not Correct\n",
      "Test case 3 score_vectorized: Not Correct\n",
      "Test case 3 best_separator: Not Correct\n"
     ]
    }
   ],
   "source": [
    "# Test cases\n",
    "test_cases = [\n",
    "    {\n",
    "        'data': np.array([[1, 2, 3, 4], [1, 1, 1, 1]]),\n",
    "        'labels': np.array([[1, -1, 1, -1]]),\n",
    "        'ths': np.array([[1, -1], [0, 0]]),\n",
    "        'th0s': np.array([[0, 0]]),\n",
    "        'expected_scores': np.array([[2], [2]]),\n",
    "        'expected_best_separator': (np.array([1, 0]), np.array([[0]]))\n",
    "    },\n",
    "    {\n",
    "        'data': np.array([[1, 2, 3, 4], [1, 1, 1, 1]]),\n",
    "        'labels': np.array([[1, 1, -1, -1]]),\n",
    "        'ths': np.array([[1, -1], [0, 0]]),\n",
    "        'th0s': np.array([[-1, 3]]),\n",
    "        'expected_scores': np.array([[4], [0]]),\n",
    "        'expected_best_separator': (np.array([1, 0]), np.array([[-1]]))\n",
    "    },\n",
    "    {\n",
    "        'data': np.array([[1, 2, 3, 4], [1, 1, 1, 1]]),\n",
    "        'labels': np.array([[1, 1, 1, 1]]),\n",
    "        'ths': np.array([[1, -1], [0, 0]]),\n",
    "        'th0s': np.array([[0, 0]]),\n",
    "        'expected_scores': np.array([[2], [2]]),\n",
    "        'expected_best_separator': (np.array([1, 0]), np.array([[0]]))\n",
    "    }\n",
    "]\n",
    "\n",
    "# Function to check results\n",
    "def check_results():\n",
    "    for i, test_case in enumerate(test_cases):\n",
    "        data = test_case['data']\n",
    "        labels = test_case['labels']\n",
    "        ths = test_case['ths']\n",
    "        th0s = test_case['th0s']\n",
    "        expected_scores = test_case['expected_scores']\n",
    "        expected_best_separator = test_case['expected_best_separator']\n",
    "\n",
    "        # Check score_vectorized function\n",
    "        scores = score_vectorized(data, labels, ths, th0s)\n",
    "        if np.array_equal(scores, expected_scores):\n",
    "            print(f\"Test case {i + 1} score_vectorized: Correct\")\n",
    "        else:\n",
    "            print(f\"Test case {i + 1} score_vectorized: Not Correct\")\n",
    "\n",
    "        # Check best_separator function\n",
    "        best_th, best_th0 = best_separator(data, labels, ths, th0s)\n",
    "        if np.array_equal(best_th, expected_best_separator[0]) and np.array_equal(best_th0, expected_best_separator[1]):\n",
    "            print(f\"Test case {i + 1} best_separator: Correct\")\n",
    "        else:\n",
    "            print(f\"Test case {i + 1} best_separator: Not Correct\")\n",
    "\n",
    "# Run the checks\n",
    "check_results()"
   ]
  },
  {
   "cell_type": "code",
   "execution_count": null,
   "metadata": {},
   "outputs": [],
   "source": []
  }
 ],
 "metadata": {
  "kernelspec": {
   "display_name": "base",
   "language": "python",
   "name": "python3"
  },
  "language_info": {
   "codemirror_mode": {
    "name": "ipython",
    "version": 3
   },
   "file_extension": ".py",
   "mimetype": "text/x-python",
   "name": "python",
   "nbconvert_exporter": "python",
   "pygments_lexer": "ipython3",
   "version": "3.11.5"
  }
 },
 "nbformat": 4,
 "nbformat_minor": 2
}
