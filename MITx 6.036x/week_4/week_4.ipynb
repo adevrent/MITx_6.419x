{
 "cells": [
  {
   "cell_type": "code",
   "execution_count": 3,
   "metadata": {},
   "outputs": [],
   "source": [
    "import numpy as np"
   ]
  },
  {
   "cell_type": "code",
   "execution_count": 4,
   "metadata": {},
   "outputs": [
    {
     "name": "stdout",
     "output_type": "stream",
     "text": [
      "[[3. 2. 1.]\n",
      " [1. 1. 1.]\n",
      " [4. 2. 1.]]\n"
     ]
    },
    {
     "data": {
      "text/plain": [
       "array([ 0.70710678,  1.41421356, -1.41421356])"
      ]
     },
     "execution_count": 4,
     "metadata": {},
     "output_type": "execute_result"
    }
   ],
   "source": [
    "X = np.array([\n",
    "    [3, 2],\n",
    "    [1, 1],\n",
    "    [4, 2]\n",
    "])\n",
    "y = np.array([1, -1, -1])\n",
    "X = np.hstack((X, np.ones((X.shape[0], 1))))\n",
    "print(X)\n",
    "theta = np.array([1, 1, -4])\n",
    "margins = y * (X@theta / np.linalg.norm(theta[:-1]))\n",
    "margins\n"
   ]
  },
  {
   "cell_type": "code",
   "execution_count": 5,
   "metadata": {},
   "outputs": [
    {
     "name": "stdout",
     "output_type": "stream",
     "text": [
      "theta =\n",
      " [[ 0]\n",
      " [ 1]\n",
      " [-3]]\n"
     ]
    }
   ],
   "source": [
    "data = np.array([[1, 1, 3, 3],[3, 1, 4, 2]])\n",
    "labels = np.array([[-1, -1, 1, 1]])\n",
    "th = np.array([[0, 1]]).T\n",
    "th0 = -3\n",
    "theta = np.vstack((th, np.array([[-3]])))\n",
    "print(\"theta =\\n\", theta)"
   ]
  },
  {
   "cell_type": "code",
   "execution_count": 11,
   "metadata": {},
   "outputs": [
    {
     "data": {
      "text/plain": [
       "array([ 0.2 ,  0.12,  0.04, -0.04, -0.12, -0.2 ])"
      ]
     },
     "execution_count": 11,
     "metadata": {},
     "output_type": "execute_result"
    }
   ],
   "source": [
    "def f(x):  # Objective function\n",
    "    return (2*x + 3)**2\n",
    "\n",
    "def f_1(x):  # first derivative of f(x)\n",
    "    return 8*x + 12\n",
    "\n",
    "np.round([1 - 8*eta for eta in [0.1, 0.11, 0.12, 0.13, 0.14, 0.15]], 6)"
   ]
  }
 ],
 "metadata": {
  "kernelspec": {
   "display_name": "base",
   "language": "python",
   "name": "python3"
  },
  "language_info": {
   "codemirror_mode": {
    "name": "ipython",
    "version": 3
   },
   "file_extension": ".py",
   "mimetype": "text/x-python",
   "name": "python",
   "nbconvert_exporter": "python",
   "pygments_lexer": "ipython3",
   "version": "3.11.5"
  }
 },
 "nbformat": 4,
 "nbformat_minor": 2
}
